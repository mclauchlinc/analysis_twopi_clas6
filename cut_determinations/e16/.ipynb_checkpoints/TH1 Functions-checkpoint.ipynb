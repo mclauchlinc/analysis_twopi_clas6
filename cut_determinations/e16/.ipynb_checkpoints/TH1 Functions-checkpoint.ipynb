{
 "cells": [
  {
   "cell_type": "code",
   "execution_count": 4,
   "id": "d639ff5f",
   "metadata": {},
   "outputs": [],
   "source": [
    "import numpy as np\n",
    "import matplotlib.pyplot as plt\n",
    "import math\n",
    "import pandas as pd\n",
    "import uproot3"
   ]
  },
  {
   "cell_type": "code",
   "execution_count": 3,
   "id": "13cc9c7f",
   "metadata": {},
   "outputs": [
    {
     "name": "stdout",
     "output_type": "stream",
     "text": [
      "{'hpx;1': 'TH1F', 'hpxpy;1': 'TH2F', 'hprof;1': 'TProfile', 'ntuple;1': 'TNtuple'}\n"
     ]
    }
   ],
   "source": [
    "#test = uproot.open(\"https://scikit-hep.org/uproot3/examples/hepdata-example.root\")\n",
    "#print(test.classnames())\n",
    "#hist=test[\"hpx\"]"
   ]
  },
  {
   "cell_type": "code",
   "execution_count": 1,
   "id": "24af8498",
   "metadata": {},
   "outputs": [
    {
     "name": "stdout",
     "output_type": "stream",
     "text": [
      "*Extracting Pieces for TH1*\n",
      "Available Functions:\n"
     ]
    }
   ],
   "source": [
    "print(\"*Extracting Pieces for TH1*\")\n",
    "print(\"Available Functions:\")"
   ]
  },
  {
   "cell_type": "code",
   "execution_count": 9,
   "id": "71f18bb8",
   "metadata": {},
   "outputs": [
    {
     "name": "stdout",
     "output_type": "stream",
     "text": [
      "\tNum_Xbins(TH1_) returns number of X bins for a TH1\n",
      "\tXEdges_1d(TH1_) returns edges of x bins for a TH1\n",
      "\tCenter_Xbins(TH1_) returns center values for x bins for a TH1\n",
      "\tValues_1d(TH1_) returns a 1D np.array for y values for a TH1\n",
      "\tYErrors_1d(TH1_) returns a 1D np.array for y errors for a TH1 \n",
      "\tXErrors_1d(TH1_) returns a 1D np.array for x errors for a TH1 \n",
      "\tXErrors_1da(xarray_) returns a 1D np.array for x errors for a xarray assuming const width\n"
     ]
    }
   ],
   "source": [
    "print(\"\\tNum_Xbins(TH1_) returns number of X bins for a TH1\")\n",
    "def Num_Xbins(TH1_):\n",
    "    return len(TH1_.numpy()[1])-1\n",
    "print(\"\\tXEdges_1d(TH1_) returns edges of x bins for a TH1\")\n",
    "def XEdges_1d(TH1_):\n",
    "    return TH1_.numpy()[1]\n",
    "print(\"\\tCenter_Xbins(TH1_) returns center values for x bins for a TH1\")\n",
    "def Center_Xbins(TH1_):\n",
    "    xedges=XEdges_1d(TH1_)\n",
    "    center=np.zeros(len(xedges)-1)\n",
    "    for i in range(len(xedges)-1):\n",
    "        center[i]+=(xedges[i+1]+xedges[i])/2\n",
    "    return center\n",
    "print(\"\\tValues_1d(TH1_) returns a 1D np.array for y values for a TH1\")\n",
    "def Values_1d(TH1_):\n",
    "    return TH1_.numpy()[0]\n",
    "print(\"\\tYErrors_1d(TH1_) returns a 1D np.array for y errors for a TH1 \")\n",
    "def YErrors_1d(TH1_):\n",
    "    return np.array([math.sqrt(TH1_.variances[m]) for m in range(Num_Xbins(TH1_))])\n",
    "print(\"\\tXErrors_1d(TH1_) returns a 1D np.array for x errors for a TH1 \")\n",
    "def XErrors_1d(TH1_):\n",
    "    xedges = XEdges_1d(TH1_)\n",
    "    return np.array([(xedges[i+1]-xedges[i])/2. for i in range(Num_Xbins(TH1_))])\n",
    "\n",
    "print(\"\\tXErrors_1da(xarray_) returns a 1D np.array for x errors for a xarray assuming const width\")\n",
    "def XErrors_1da(xarray_):\n",
    "    return np.array([(xarray_[1]-xarray_[0])/2. for i in range(len(xarray_))])\n",
    "\n",
    "def Avg_YVals_1d(hist1_,hist2_):\n",
    "    return [(Values_1d(hist1_)[i]+Values_1d(hist2_)[i])/2. for i in range(Num_Xbins(hist1_))]\n",
    "\n",
    "def Avg_YErrors_1d(hist1_,hist2_):\n",
    "    err1 = YErrors_1d(hist1_)\n",
    "    err2 = YErrors_1d(hist2_)\n",
    "    return [math.sqrt(err1[i]*err1[i]+err2[i]+err2[i]) for i in range(Num_Xbins(hist1_))]\n",
    "\n",
    "\n",
    "def Avg_YVals_1da(yarray1_,yarray2_):\n",
    "    return [(yarray1_[i]+yarray2_[i])/2. for i in range(len(yarray1_))]\n",
    "\n",
    "def Avg_YErrors_1da(yerr1_,yerr2_):\n",
    "    return [math.sqrt(yerr1_[i]*yerr1_[i]+yerr2_[i]+yerr2_[i]) for i in range(len(yerr1_))]\n"
   ]
  },
  {
   "cell_type": "code",
   "execution_count": 9,
   "id": "3a178f6f",
   "metadata": {},
   "outputs": [
    {
     "name": "stdout",
     "output_type": "stream",
     "text": [
      "Enjoy using TH1s\n",
      "\n"
     ]
    }
   ],
   "source": [
    "print(\"Enjoy using TH1s\\n\")"
   ]
  },
  {
   "cell_type": "code",
   "execution_count": 6,
   "id": "5cccd8ea",
   "metadata": {},
   "outputs": [],
   "source": [
    "nu=\"\\u03C5\"\n",
    "mu=\"\\u03BC\"\n",
    "sigma=\"\\u03C3\"\n",
    "tau=\"\\u03C4\"\n",
    "phi=\"\\u03C6\"\n",
    "theta=\"\\u03B8\"\n",
    "alpha=\"\\u03B1\""
   ]
  },
  {
   "cell_type": "code",
   "execution_count": 7,
   "id": "ac679b61",
   "metadata": {},
   "outputs": [
    {
     "data": {
      "text/plain": [
       "'υ'"
      ]
     },
     "execution_count": 7,
     "metadata": {},
     "output_type": "execute_result"
    }
   ],
   "source": []
  },
  {
   "cell_type": "code",
   "execution_count": null,
   "id": "02ffa48f",
   "metadata": {},
   "outputs": [],
   "source": []
  }
 ],
 "metadata": {
  "kernelspec": {
   "display_name": "Python 3 (ipykernel)",
   "language": "python",
   "name": "python3"
  },
  "language_info": {
   "codemirror_mode": {
    "name": "ipython",
    "version": 3
   },
   "file_extension": ".py",
   "mimetype": "text/x-python",
   "name": "python",
   "nbconvert_exporter": "python",
   "pygments_lexer": "ipython3",
   "version": "3.10.8"
  }
 },
 "nbformat": 4,
 "nbformat_minor": 5
}
