{
 "cells": [
  {
   "cell_type": "code",
   "execution_count": 4,
   "id": "d639ff5f",
   "metadata": {},
   "outputs": [],
   "source": [
    "import numpy as np\n",
    "import matplotlib.pyplot as plt\n",
    "import math\n",
    "import pandas as pd\n",
    "import uproot3"
   ]
  },
  {
   "cell_type": "code",
   "execution_count": 3,
   "id": "13cc9c7f",
   "metadata": {},
   "outputs": [
    {
     "name": "stdout",
     "output_type": "stream",
     "text": [
      "{'hpx;1': 'TH1F', 'hpxpy;1': 'TH2F', 'hprof;1': 'TProfile', 'ntuple;1': 'TNtuple'}\n"
     ]
    }
   ],
   "source": [
    "#test = uproot.open(\"https://scikit-hep.org/uproot3/examples/hepdata-example.root\")\n",
    "#print(test.classnames())\n",
    "#hist=test[\"hpx\"]"
   ]
  },
  {
   "cell_type": "code",
   "execution_count": 1,
   "id": "24af8498",
   "metadata": {},
   "outputs": [
    {
     "name": "stdout",
     "output_type": "stream",
     "text": [
      "*Extracting Pieces for TH1*\n",
      "Available Functions:\n"
     ]
    }
   ],
   "source": [
    "print(\"*Extracting Pieces for TH1*\")\n",
    "print(\"Available Functions:\")"
   ]
  },
  {
   "cell_type": "code",
   "execution_count": 3,
   "id": "71f18bb8",
   "metadata": {},
   "outputs": [
    {
     "name": "stdout",
     "output_type": "stream",
     "text": [
      "\tNum_Xbins(TH1_) returns number of X bins for a TH1\n",
      "\tXEdges_2d(TH1_) returns edges of x bins for a TH1\n",
      "\tCenter_Xbins(TH1_) returns center values for x bins for a TH1\n",
      "\tValues_1d(TH1_) returns a 1D np.array for y values for a TH1\n"
     ]
    }
   ],
   "source": [
    "print(\"\\tNum_Xbins(TH1_) returns number of X bins for a TH1\")\n",
    "def Num_Xbins(TH1_):\n",
    "    return len(TH1_.numpy()[1])-1\n",
    "print(\"\\tXEdges_2d(TH1_) returns edges of x bins for a TH1\")\n",
    "def XEdges_1d(TH1_):\n",
    "    return TH1_.numpy()[1]\n",
    "print(\"\\tCenter_Xbins(TH1_) returns center values for x bins for a TH1\")\n",
    "def Center_Xbins(TH1_):\n",
    "    xedges=XEdges_1d(TH1_)\n",
    "    center=np.zeros(len(xedges)-1)\n",
    "    for i in range(len(xedges)-1):\n",
    "        center[i]+=(xedges[i+1]+xedges[i])/2\n",
    "    return center\n",
    "print(\"\\tValues_1d(TH1_) returns a 1D np.array for y values for a TH1\")\n",
    "def Values_1d(TH1_):\n",
    "    return TH1_.numpy()[0]\n",
    "    \n",
    "\n"
   ]
  },
  {
   "cell_type": "code",
   "execution_count": 9,
   "id": "3a178f6f",
   "metadata": {},
   "outputs": [
    {
     "name": "stdout",
     "output_type": "stream",
     "text": [
      "Enjoy using TH1s\n",
      "\n"
     ]
    }
   ],
   "source": [
    "print(\"Enjoy using TH1s\\n\")"
   ]
  },
  {
   "cell_type": "code",
   "execution_count": null,
   "id": "5cccd8ea",
   "metadata": {},
   "outputs": [],
   "source": []
  }
 ],
 "metadata": {
  "kernelspec": {
   "display_name": "Python 3 (ipykernel)",
   "language": "python",
   "name": "python3"
  },
  "language_info": {
   "codemirror_mode": {
    "name": "ipython",
    "version": 3
   },
   "file_extension": ".py",
   "mimetype": "text/x-python",
   "name": "python",
   "nbconvert_exporter": "python",
   "pygments_lexer": "ipython3",
   "version": "3.10.8"
  }
 },
 "nbformat": 4,
 "nbformat_minor": 5
}
