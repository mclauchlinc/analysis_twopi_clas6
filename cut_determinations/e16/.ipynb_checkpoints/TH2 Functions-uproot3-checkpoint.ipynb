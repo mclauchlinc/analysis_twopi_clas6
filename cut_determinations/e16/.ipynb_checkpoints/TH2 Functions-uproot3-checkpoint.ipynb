{
 "cells": [
  {
   "cell_type": "code",
   "execution_count": 4,
   "id": "b5968b6c",
   "metadata": {},
   "outputs": [],
   "source": [
    "import numpy as np\n",
    "import matplotlib.pyplot as plt\n",
    "import math\n",
    "import pandas as pd\n",
    "import uproot3"
   ]
  },
  {
   "cell_type": "code",
   "execution_count": 2,
   "id": "cd40e720",
   "metadata": {},
   "outputs": [],
   "source": [
    "#test = uproot.open(\"https://scikit-hep.org/uproot3/examples/hepdata-example.root\")\n",
    "#print(test.classnames())\n",
    "#hist=test[\"hpxpy\"]"
   ]
  },
  {
   "cell_type": "code",
   "execution_count": 3,
   "id": "7ef960f0",
   "metadata": {},
   "outputs": [
    {
     "name": "stdout",
     "output_type": "stream",
     "text": [
      "*Extracting Pieces for TH2*\n",
      "Available Functions:\n"
     ]
    }
   ],
   "source": [
    "print(\"*Extracting Pieces for TH2*\")\n",
    "print(\"Available Functions:\")"
   ]
  },
  {
   "cell_type": "code",
   "execution_count": 7,
   "id": "347ae17f",
   "metadata": {},
   "outputs": [
    {
     "name": "stdout",
     "output_type": "stream",
     "text": [
      "\tNum_Xbins(TH2_) returns number of X bins for a TH2\n",
      "\tNum_Ybins(TH2_) returns number of Y bins for a TH2\n",
      "\tXEdges_2d(TH2_) returns edges of x bins for a TH2\n",
      "\tYEdges_2d(TH2_) returns edges of y bins for a TH2\n",
      "\tCenter_Xbins(TH2_) returns center values for x bins for a TH2\n",
      "\tCenter_Ybins(TH2_) returns center value for y bins for a TH2\n",
      "\tXY_Values(TH2_) returns a 2D np.array for z values arranged [x][y] for a TH2\n",
      "\tYX_Values(TH2_) returns a 2D np.array for z values arranged [y][x] for a TH2\n"
     ]
    }
   ],
   "source": [
    "print(\"\\tNum_Xbins(TH2_) returns number of X bins for a TH2\")\n",
    "def Num_Xbins(TH2_):\n",
    "    return len(TH2_.edges[0])-1\n",
    "print(\"\\tNum_Ybins(TH2_) returns number of Y bins for a TH2\")\n",
    "def Num_Ybins(TH2_):\n",
    "    return len(TH2_.edges[1])-1\n",
    "print(\"\\tXEdges_2d(TH2_) returns edges of x bins for a TH2\")\n",
    "def XEdges_2d(TH2_):\n",
    "    return TH2_.edges[0]\n",
    "print(\"\\tYEdges_2d(TH2_) returns edges of y bins for a TH2\")\n",
    "def YEdges_2d(TH2_):\n",
    "    return TH2_.edges[1]\n",
    "print(\"\\tCenter_Xbins(TH2_) returns center values for x bins for a TH2\")\n",
    "def Center_Xbins(TH2_):\n",
    "    xedges=XEdges_2d(TH2_)\n",
    "    center=np.zeros(len(xedges)-1)\n",
    "    for i in range(len(xedges)-1):\n",
    "        center[i]+=(xedges[i+1]+xedges[i])/2\n",
    "    return center\n",
    "print(\"\\tCenter_Ybins(TH2_) returns center value for y bins for a TH2\")\n",
    "def Center_Ybins(TH2_):\n",
    "    yedges=YEdges_2d(TH2_)\n",
    "    center=np.zeros(len(yedges)-1)\n",
    "    for i in range(len(yedges)-1):\n",
    "        center[i]+=(yedges[i+1]+yedges[i])/2\n",
    "    return center\n",
    "print(\"\\tXY_Values(TH2_) returns a 2D np.array for z values arranged [x][y] for a TH2\")\n",
    "def XY_Values(TH2_):\n",
    "    return np.array(TH2_.values)\n",
    "print(\"\\tYX_Values(TH2_) returns a 2D np.array for z values arranged [y][x] for a TH2\")\n",
    "def YX_Values(TH2_):\n",
    "    #yx_values=XY_Values(TH2_).transpose()\n",
    "    #for i in range(Num_Ybins(TH2_)):\n",
    "        #for j in range(Num_Xbins(TH2_)):\n",
    "            #yx_values[i][j]+=TH2_.values[j][i]\n",
    "    #return pd.DataFrame(TH2_.values).T\n",
    "    return XY_Values(TH2_).transpose()\n"
   ]
  },
  {
   "cell_type": "code",
   "execution_count": null,
   "id": "f8ff7d99",
   "metadata": {},
   "outputs": [],
   "source": []
  },
  {
   "cell_type": "code",
   "execution_count": 5,
   "id": "d6a0fd2a",
   "metadata": {},
   "outputs": [
    {
     "name": "stdout",
     "output_type": "stream",
     "text": [
      "Enjoy using TH2s\n",
      "\n"
     ]
    }
   ],
   "source": [
    "print(\"Enjoy using TH2s\\n\")"
   ]
  },
  {
   "cell_type": "code",
   "execution_count": null,
   "id": "bf723a34",
   "metadata": {},
   "outputs": [],
   "source": []
  }
 ],
 "metadata": {
  "kernelspec": {
   "display_name": "Python 3 (ipykernel)",
   "language": "python",
   "name": "python3"
  },
  "language_info": {
   "codemirror_mode": {
    "name": "ipython",
    "version": 3
   },
   "file_extension": ".py",
   "mimetype": "text/x-python",
   "name": "python",
   "nbconvert_exporter": "python",
   "pygments_lexer": "ipython3",
   "version": "3.8.9"
  }
 },
 "nbformat": 4,
 "nbformat_minor": 5
}
