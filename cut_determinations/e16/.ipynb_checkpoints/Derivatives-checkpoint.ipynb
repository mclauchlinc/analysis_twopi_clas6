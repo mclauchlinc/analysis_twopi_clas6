{
 "cells": [
  {
   "cell_type": "code",
   "execution_count": 1,
   "id": "605de011",
   "metadata": {},
   "outputs": [],
   "source": [
    "import numpy as np\n",
    "import matplotlib.pyplot as plt\n",
    "import math\n",
    "import pandas as pd\n",
    "#import uproot\n",
    "import uproot3\n",
    "from scipy import optimize as op"
   ]
  },
  {
   "cell_type": "code",
   "execution_count": null,
   "id": "c80d0ae5",
   "metadata": {},
   "outputs": [],
   "source": [
    "print(\"*Using Derivatives*\")"
   ]
  },
  {
   "cell_type": "code",
   "execution_count": 8,
   "id": "657ac06b",
   "metadata": {},
   "outputs": [
    {
     "name": "stdout",
     "output_type": "stream",
     "text": [
      "\tddx(xarray_,yarray_) returns an array of discretely derivatived y values keeping the x vals\n",
      "\tddx2(xarray_,yarray_) returns an array of discretely 2nd order derivatived y values keeping the x vals\n"
     ]
    }
   ],
   "source": [
    "def derivative_for(xarray_,yarray_,x_):\n",
    "    return (yarray_[x_+1]-yarray_[x_])/(xarray_[x_+1]-xarray_[x_])\n",
    "\n",
    "def derivative_back(xarray_,yarray_,x_):\n",
    "    return (yarray_[x_]-yarray_[x_-1])/(xarray_[x_]-xarray_[x_-1])\n",
    "\n",
    "def derivative_cent(xarray_,yarray_,x_):\n",
    "    return (yarray_[x_+1]-yarray_[x_-1])/(xarray_[x_+1]-xarray_[x_-1])\n",
    "\n",
    "def derivative_3(xarray_,yarray_,x_):\n",
    "    return (derivative_for(xarray_,yarray_,x_) + derivative_back(xarray_,yarray_,x_)+derivative_cent(xarray_,yarray_,x_))/3.0\n",
    "\n",
    "print(\"\\tddx(xarray_,yarray_) returns an array of discretely derivatived y values keeping the x vals\")\n",
    "def ddx(xarray_,yarray_):\n",
    "    new_array = np.zeros(len(yarray_))\n",
    "    for x in range(len(xarray_)):\n",
    "        if x==0:\n",
    "            new_array[x]+=derivative_for(xarray_,yarray_,x)\n",
    "        if x==len(xarray_)-1:\n",
    "            new_array[x]+=derivative_back(xarray_,yarray_,x)\n",
    "        else:\n",
    "            new_array[x]+=derivative_3(xarray_,yarray_,x)\n",
    "    return new_array\n",
    "\n",
    "print(\"\\tddx2(xarray_,yarray_) returns an array of discretely 2nd order derivatived y values keeping the x vals\")\n",
    "def ddx2(xarray_,yarray_):\n",
    "    new_array = np.zeros(len(yarray_))\n",
    "    dd1 = ddx(xarray_,yarray_)\n",
    "    for x in range(len(xarray_)):\n",
    "        if x==0:\n",
    "            new_array[x]+=derivative_for(xarray_,dd1,x)\n",
    "        if x==len(xarray_)-1:\n",
    "            new_array[x]+=derivative_back(xarray_,dd1,x)\n",
    "        else:\n",
    "            new_array[x]+=derivative_3(xarray_,dd1,x)\n",
    "    return new_array"
   ]
  },
  {
   "cell_type": "code",
   "execution_count": null,
   "id": "3f45ed1c",
   "metadata": {},
   "outputs": [],
   "source": []
  },
  {
   "cell_type": "code",
   "execution_count": null,
   "id": "bda13baa",
   "metadata": {},
   "outputs": [],
   "source": [
    "print(\"Enjoy using discrete derivatives\")"
   ]
  }
 ],
 "metadata": {
  "kernelspec": {
   "display_name": "Python 3 (ipykernel)",
   "language": "python",
   "name": "python3"
  },
  "language_info": {
   "codemirror_mode": {
    "name": "ipython",
    "version": 3
   },
   "file_extension": ".py",
   "mimetype": "text/x-python",
   "name": "python",
   "nbconvert_exporter": "python",
   "pygments_lexer": "ipython3",
   "version": "3.8.9"
  }
 },
 "nbformat": 4,
 "nbformat_minor": 5
}
