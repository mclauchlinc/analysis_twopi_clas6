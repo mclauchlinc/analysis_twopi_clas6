{
 "cells": [
  {
   "cell_type": "code",
   "execution_count": 1,
   "id": "2d407706",
   "metadata": {},
   "outputs": [],
   "source": [
    "import numpy as np\n",
    "import matplotlib.pyplot as plt\n",
    "import matplotlib as mpl\n",
    "import math\n",
    "import pandas as pd\n",
    "#import uproot\n",
    "import uproot3\n",
    "from scipy import optimize as op\n",
    "import scipy.integrate as integrate"
   ]
  },
  {
   "cell_type": "code",
   "execution_count": 114,
   "id": "a700ad9b",
   "metadata": {},
   "outputs": [],
   "source": [
    "def par_print( par_dims_, par_idx_, par_, all_one_line_):\n",
    "    size = len(par_dims_)\n",
    "    pass_idx = np.zeros(size)\n",
    "    n_lead_zeros = 0\n",
    "    n_trail_zeros = 0\n",
    "    fin_pass= False\n",
    "    for i in range(size):\n",
    "        if par_idx_[i] == 0:\n",
    "            pass_idx[i] = 0\n",
    "        elif par_idx_[i] == par_dims_[i]-1:\n",
    "            pass_idx[i] = 1\n",
    "        else:\n",
    "            pass_idx[i] = -1\n",
    "    #print(pass_idx)\n",
    "    #print(pass_idx[size-1])\n",
    "    for i in range(size):\n",
    "        if i==0:\n",
    "            if pass_idx[size-1] == 0:\n",
    "                n_lead_zeros += 1\n",
    "      #          print(\"\\npass idx\",pass_idx[size-1],i,n_lead_zeros)\n",
    "        elif pass_idx[size-i] == 0 and pass_idx[size-i-1]==0 and n_lead_zeros==i:\n",
    "            n_lead_zeros+=1\n",
    "     #       print(\"\\npass idx\",pass_idx[size-i-1],\" prev pass idx\",pass_idx[size-i], i, n_lead_zeros)\n",
    "    #print(\"\\n n_lead_zeros\",n_lead_zeros, \"par idx:\", par_idx_)\n",
    "    if all_one_line_:\n",
    "        if n_lead_zeros>0:\n",
    "            for i in range(n_lead_zeros):\n",
    "                if pass_idx[i] == 0:\n",
    "                    print(\"{\",end=\"\")\n",
    "        print(par_,end=\"\")\n",
    "        if pass_idx[size-1] != 1:\n",
    "            print(\",\",end=\"\")\n",
    "        else:\n",
    "            if n_lead_zeros>0:\n",
    "                for i in range(n_lead_zeros):\n",
    "                    if pass_idx[size-1-i] == 1:\n",
    "                        print(\"}\",end=\"\")\n",
    "                        fin_pass = True\n",
    "        if pass_idx[0] !=1 and fin_pass:\n",
    "            print(\",\",end=\"\")\n",
    "    else:\n",
    "        for i in range(size):\n",
    "            if pass_idx[i] == 0:\n",
    "                print(\"\")"
   ]
  },
  {
   "cell_type": "code",
   "execution_count": 115,
   "id": "80757471",
   "metadata": {},
   "outputs": [
    {
     "name": "stdout",
     "output_type": "stream",
     "text": [
      "[[[[0, -1, -2, -3], [1, 0, -1, -2], [2, 1, 0, -1]], [[1, 0, -1, -2], [2, 1, 0, -1], [3, 2, 1, 0]], [[2, 1, 0, -1], [3, 2, 1, 0], [4, 3, 2, 1]], [[3, 2, 1, 0], [4, 3, 2, 1], [5, 4, 3, 2]]], [[[1, 0, -1, -2], [2, 1, 0, -1], [3, 2, 1, 0]], [[2, 1, 0, -1], [3, 2, 1, 0], [4, 3, 2, 1]], [[3, 2, 1, 0], [4, 3, 2, 1], [5, 4, 3, 2]], [[4, 3, 2, 1], [5, 4, 3, 2], [6, 5, 4, 3]]], [[[2, 1, 0, -1], [3, 2, 1, 0], [4, 3, 2, 1]], [[3, 2, 1, 0], [4, 3, 2, 1], [5, 4, 3, 2]], [[4, 3, 2, 1], [5, 4, 3, 2], [6, 5, 4, 3]], [[5, 4, 3, 2], [6, 5, 4, 3], [7, 6, 5, 4]]]]\n"
     ]
    }
   ],
   "source": [
    "arr = [[[[i+j+k-l for l in range(4)] for k in range(3)] for j in range(4)]for i in range(3)]\n",
    "print(arr)"
   ]
  },
  {
   "cell_type": "code",
   "execution_count": 116,
   "id": "badf7bbd",
   "metadata": {},
   "outputs": [
    {
     "name": "stdout",
     "output_type": "stream",
     "text": [
      "-1\n"
     ]
    }
   ],
   "source": [
    "par_dims = [len(arr),len(arr[0]),len(arr[0][0]),len(arr[0][0][0])]\n",
    "par_idx = [0,2,0,3]\n",
    "par = arr[par_idx[0]][par_idx[1]][par_idx[2]][par_idx[3]]\n",
    "print(par)\n",
    "\n",
    "#par_print(par_dims,par_idx,par,True)"
   ]
  },
  {
   "cell_type": "code",
   "execution_count": 117,
   "id": "219f52bc",
   "metadata": {},
   "outputs": [
    {
     "name": "stdout",
     "output_type": "stream",
     "text": [
      "{{{{0,-1,-2,-3{1,0,-1,-2{2,1,0,-1{1,0,-1,-2{2,1,0,-1{3,2,1,0{2,1,0,-1{3,2,1,0{4,3,2,1{3,2,1,0{4,3,2,1{5,4,3,2{{1,0,-1,-22,1,0,-13,2,1,02,1,0,-13,2,1,04,3,2,13,2,1,04,3,2,15,4,3,24,3,2,15,4,3,26,5,4,3{{2,1,0,-13,2,1,04,3,2,13,2,1,04,3,2,15,4,3,24,3,2,15,4,3,26,5,4,35,4,3,26,5,4,37,6,5,4"
     ]
    }
   ],
   "source": [
    "for i in range(3):\n",
    "    for j in range(4):\n",
    "        for k in range(3):\n",
    "            for l in range(4):\n",
    "                par_print(par_dims,[i,j,k,l],arr[i][j][k][l],True)"
   ]
  },
  {
   "cell_type": "code",
   "execution_count": null,
   "id": "d13d56e3",
   "metadata": {},
   "outputs": [],
   "source": []
  }
 ],
 "metadata": {
  "kernelspec": {
   "display_name": "Python 3 (ipykernel)",
   "language": "python",
   "name": "python3"
  },
  "language_info": {
   "codemirror_mode": {
    "name": "ipython",
    "version": 3
   },
   "file_extension": ".py",
   "mimetype": "text/x-python",
   "name": "python",
   "nbconvert_exporter": "python",
   "pygments_lexer": "ipython3",
   "version": "3.10.8"
  }
 },
 "nbformat": 4,
 "nbformat_minor": 5
}
