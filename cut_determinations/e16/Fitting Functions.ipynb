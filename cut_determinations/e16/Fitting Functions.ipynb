{
 "cells": [
  {
   "cell_type": "code",
   "execution_count": 4,
   "id": "3ddeb5c6",
   "metadata": {},
   "outputs": [],
   "source": [
    "import numpy as np\n",
    "import matplotlib.pyplot as plt\n",
    "import math\n",
    "import pandas as pd\n",
    "import scipy.special as sp"
   ]
  },
  {
   "cell_type": "code",
   "execution_count": null,
   "id": "aa7da871",
   "metadata": {},
   "outputs": [],
   "source": [
    "print(\"*Using Fitting Functions*\")\n",
    "print(\"Available Functions:\")"
   ]
  },
  {
   "cell_type": "code",
   "execution_count": 19,
   "id": "de73fca6",
   "metadata": {},
   "outputs": [
    {
     "name": "stdout",
     "output_type": "stream",
     "text": [
      "\tPoly(x,pars_) returns an polynomial of order of pars. Starts with x^0 and increments up\n",
      "\tPoly3(x,p0_,p1_,p2_,p3_) returns a 3rd order polynomial \n",
      "\tGaus(x,a_,m_,s_) returns a gaus with amplitude a_, mean m_, and sigma s_\n",
      "\tGaus2(x,a_,m_,s_) returns two gaussians with amplitude a1/2_, mean m1/2_, and sigma s1/2_\n",
      "\tGaus_bk_const(x,a_,m_,s_,c_) returns a gaus with constant background c_\n",
      "\tGaus_bk_lin(x,a_,m_,s_,slope_,c_) returns a gaus with linear background\n",
      "\tGaus_bk_quad(x,a_,m_,s_,sq0_,sq1_,sq2_) returns a gaus with quadratic background. # on sq is power of x\n"
     ]
    }
   ],
   "source": [
    "print(\"\\tPoly(x,pars_) returns an polynomial of order of pars. Starts with x^0 and increments up\")\n",
    "def Poly(x,pars_):\n",
    "    output = 0\n",
    "    for i in range(len(pars_)):\n",
    "        output+=(x**i)*pars_[i]\n",
    "    return output\n",
    "print(\"\\tPoly3(x,p0_,p1_,p2_,p3_) returns a 3rd order polynomial \")\n",
    "def Poly3(x,p0_,p1_,p2_,p3_):\n",
    "    return p0_+p1_*x+p2_*x*x+p3_*x*x*x\n",
    "print(\"\\tGaus(x,a_,m_,s_) returns a gaus with amplitude a_, mean m_, and sigma s_\")\n",
    "def Gaus(x, a_, m_, s_):\n",
    "    return a_*np.exp(-(x-m_)*(x-m_)/(2*s_*s_))\n",
    "print(\"\\tGaus2(x,a_,m_,s_) returns two gaussians with amplitude a1/2_, mean m1/2_, and sigma s1/2_\")\n",
    "def Gaus2(x, a1_, m1_, s1_, a2_, m2_, s2_):\n",
    "    return Gaus(x,a1_,m1_,s1_)+Gaus(x,a2_,m2_,s2_)\n",
    "print(\"\\tGaus_bk_const(x,a_,m_,s_,c_) returns a gaus with constant background c_\")\n",
    "def Gaus_bk_const(x,a1_,m1_,s1_,c_):\n",
    "    return Gaus(x,a1_,m1_,s1_)+c_\n",
    "print(\"\\tGaus_bk_lin(x,a_,m_,s_,slope_,c_) returns a gaus with linear background\")\n",
    "def Gaus_bk_lin(x,a1_,m1_,s1_,slope_,c_):\n",
    "    return Gaus(x,a1_,m1_,s1_)+Poly(x,[c_,slope_])\n",
    "print(\"\\tGaus_bk_quad(x,a_,m_,s_,sq0_,sq1_,sq2_) returns a gaus with quadratic background. # on sq is power of x\")\n",
    "def Gaus_bk_quad(x,a1_,m1_,s1_,sq0_,sq1_,sq2_):\n",
    "    return Gaus(x,a1_,m1_,s1_)+Poly(x,[sq0_,sq1_,sq2_])\n"
   ]
  },
  {
   "cell_type": "code",
   "execution_count": 16,
   "id": "e0b76dc5",
   "metadata": {},
   "outputs": [
    {
     "data": {
      "image/png": "[encoded data removed]",
      "text/plain": [
       "<Figure size 432x288 with 1 Axes>"
      ]
     },
     "metadata": {
      "needs_background": "light"
     },
     "output_type": "display_data"
    }
   ],
   "source": [
    "#x = np.array([i*0.5 for i in range(20)])\n",
    "#y= Gaus_bk_lin(x,10,4,2,-1,2)\n",
    "#plt.scatter(x,y)\n",
    "#plt.show()"
   ]
  },
  {
   "cell_type": "code",
   "execution_count": 26,
   "id": "7d336bb0",
   "metadata": {},
   "outputs": [
    {
     "name": "stdout",
     "output_type": "stream",
     "text": [
      "\tSuper_Gaus(x,a_,m_,s_,p_) returns a Super Gaussian that can have flatness modified with p_\n",
      "\tSuper_Gaus_Bound(a_,m_,s_,p_,frac_) returns an array of the x values where the Super Gaus hits a given fraction of its max\n"
     ]
    }
   ],
   "source": [
    "print(\"\\tSuper_Gaus(x,a_,m_,s_,p_) returns a Super Gaussian that can have flatness modified with p_\")\n",
    "def Super_Gaus(x,a_,m_,s_,p_):\n",
    "    return a_*np.exp(-(np.abs(x-m_)/(np.sqrt(2)*s_))**p_)\n",
    "\n",
    "print(\"\\tSuper_Gaus_Bound(a_,m_,s_,p_,frac_) returns an array of the x values where the Super Gaus hits a given fraction of its max\")\n",
    "def Super_Gaus_Bound(a_,m_,s_,p_,frac_):\n",
    "    bound_top= np.sqrt(2)*s_*(-np.log(frac_))**(1/p_) + m_\n",
    "    bound_low= m_ - np.sqrt(2)*s_*(-np.log(frac_))**(1/p_)\n",
    "    return [bound_low,bound_top]\n",
    "#def Erf_Gaus(x,)"
   ]
  },
  {
   "cell_type": "code",
   "execution_count": 18,
   "id": "e03d7f29",
   "metadata": {},
   "outputs": [
    {
     "name": "stdout",
     "output_type": "stream",
     "text": [
      "enjoy using fitting functions\n",
      "\n"
     ]
    }
   ],
   "source": [
    "print(\"enjoy using fitting functions\\n\")"
   ]
  },
  {
   "cell_type": "code",
   "execution_count": null,
   "id": "41e531f2",
   "metadata": {},
   "outputs": [],
   "source": []
  }
 ],
 "metadata": {
  "kernelspec": {
   "display_name": "Python 3 (ipykernel)",
   "language": "python",
   "name": "python3"
  },
  "language_info": {
   "codemirror_mode": {
    "name": "ipython",
    "version": 3
   },
   "file_extension": ".py",
   "mimetype": "text/x-python",
   "name": "python",
   "nbconvert_exporter": "python",
   "pygments_lexer": "ipython3",
   "version": "3.8.9"
  }
 },
 "nbformat": 4,
 "nbformat_minor": 5
}
