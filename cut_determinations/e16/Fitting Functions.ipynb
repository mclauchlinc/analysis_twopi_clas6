{
 "cells": [
  {
   "cell_type": "code",
   "execution_count": 9,
   "id": "3ddeb5c6",
   "metadata": {},
   "outputs": [],
   "source": [
    "import numpy as np\n",
    "import matplotlib.pyplot as plt\n",
    "import math\n",
    "import pandas as pd\n",
    "import scipy.special as sp\n",
    "import scipy.stats as stats\n",
    "from scipy.integrate import quad"
   ]
  },
  {
   "cell_type": "code",
   "execution_count": 10,
   "id": "d2c6d951",
   "metadata": {},
   "outputs": [],
   "source": [
    "from landaupy import landau"
   ]
  },
  {
   "cell_type": "code",
   "execution_count": 11,
   "id": "aa7da871",
   "metadata": {},
   "outputs": [
    {
     "name": "stdout",
     "output_type": "stream",
     "text": [
      "*Using Fitting Functions*\n",
      "Available Functions:\n"
     ]
    }
   ],
   "source": [
    "print(\"*Using Fitting Functions*\")\n",
    "print(\"Available Functions:\")\n",
    "print(\"_n versions can be used for individual numbers as opposed to arrays of inputs\")"
   ]
  },
  {
   "cell_type": "code",
   "execution_count": 24,
   "id": "2eecb86c",
   "metadata": {},
   "outputs": [
    {
     "name": "stdout",
     "output_type": "stream",
     "text": [
      "General Math\n",
      "\tdef sign(n_): give the sign of number n_\n",
      "\tdef add_quad(input_): add an array of numbers in quadreture\n"
     ]
    }
   ],
   "source": [
    "print(\"General Math\")\n",
    "print(\"\\tdef sign(n_): give the sign of number n_\")\n",
    "def sign(n_):\n",
    "    if n_ >= 0:\n",
    "        return 1\n",
    "    else:\n",
    "        return -1\n",
    "print(\"\\tdef add_quad(input_): add an array of numbers in quadreture\")\n",
    "def add_quad(input_):\n",
    "    quad = [input_[i]+input_[i] for i in range(len(input_))]\n",
    "    summ = 0.0\n",
    "    for i in range(len(quad)):\n",
    "        summ += quad[i]\n",
    "    return math.sqrt(summ)"
   ]
  },
  {
   "cell_type": "code",
   "execution_count": 13,
   "id": "de73fca6",
   "metadata": {},
   "outputs": [
    {
     "name": "stdout",
     "output_type": "stream",
     "text": [
      "Polynomials\n",
      "\tPoly(x,pars_) returns an polynomial of order of pars. Starts with x^0 and increments up\n",
      "\tPoly3(x,p0_,p1_,p2_,p3_) returns a 3rd order polynomial \n",
      "Gaussians\n",
      "\tGaus(x,a_,m_,s_) returns a gaus with amplitude a_, mean m_, and sigma s_\n",
      "\tGaus2(x, a1_, m1_, s1_, a2_, m2_, s2_) returns two gaussians\n",
      "\tGaus3(x, a1_, m1_, s1_, a2_, m2_, s2_, a3_, m3_, s3_) returns three gaussians\n",
      "\tGaus_bk_const(x,a_,m_,s_,c_) returns a gaus with constant background c_\n",
      "\tGaus_bk_lin(x,a_,m_,s_,slope_,c_) returns a gaus with linear background\n",
      "\tGaus_bk_quad(x,a_,m_,s_,sq0_,sq1_,sq2_) returns a gaus with quadratic background. # on sq is power of x\n",
      "\tGaus_bk_Poly3(x,a_,m_,s_,sq0_,sq1_,sq2_,sq3_) returns a gaus with cubic background. # on sq is power of x\n",
      "\tGaus_bk_Poly4(x,a_,m_,s_,sq0_,sq1_,sq2_,sq3_,sq4_) returns a gaus with fourth order background. # on sq is power of x\n",
      "Negative Binomial\n",
      "\tNeg_Bi_Poisson(x,r_,lambda_,a_) returns a Negative binomial Poisson Function\n",
      "\tNeg_Bi_Poisson2(x,r_,lambda_,a_,r2_,lambda2_,a2_) returns a sum of two Negative binomial Poisson Functions\n"
     ]
    }
   ],
   "source": [
    "print(\"Polynomials\")\n",
    "print(\"\\tPoly(x,pars_) returns an polynomial of order of pars. Starts with x^0 and increments up\")\n",
    "def Poly(x,pars_):\n",
    "    output = 0\n",
    "    for i in range(len(pars_)):\n",
    "        output+=(x**i)*pars_[i]\n",
    "    return output\n",
    "print(\"\\tPoly3(x,p0_,p1_,p2_,p3_) returns a 3rd order polynomial \")\n",
    "def Poly3(x,p0_,p1_,p2_,p3_):\n",
    "    return p0_+p1_*x+p2_*x*x+p3_*x*x*x\n",
    "print(\"Gaussians\")\n",
    "print(\"\\tGaus(x,a_,m_,s_) returns a gaus with amplitude a_, mean m_, and sigma s_\")\n",
    "def Gaus(x, a_, m_, s_):\n",
    "    return a_*np.exp(-(x-m_)*(x-m_)/(2*s_*s_))\n",
    "print(\"\\tGaus2(x, a1_, m1_, s1_, a2_, m2_, s2_) returns two gaussians\")\n",
    "def Gaus2(x, a1_, m1_, s1_, a2_, m2_, s2_):\n",
    "    return Gaus(x,a1_,m1_,s1_)+Gaus(x,a2_,m2_,s2_)\n",
    "print(\"\\tGaus3(x, a1_, m1_, s1_, a2_, m2_, s2_, a3_, m3_, s3_) returns three gaussians\")\n",
    "def Gaus3(x, a1_, m1_, s1_, a2_, m2_, s2_, a3_, m3_, s3_):\n",
    "    return Gaus(x,a1_,m1_,s1_)+Gaus(x,a2_,m2_,s2_)+Gaus(x,a3_,m3_,s3_)\n",
    "print(\"\\tGaus_bk_const(x,a_,m_,s_,c_) returns a gaus with constant background c_\")\n",
    "def Gaus_bk_const(x,a1_,m1_,s1_,c_):\n",
    "    return Gaus(x,a1_,m1_,s1_)+c_\n",
    "print(\"\\tGaus_bk_lin(x,a_,m_,s_,slope_,c_) returns a gaus with linear background\")\n",
    "def Gaus_bk_lin(x,a1_,m1_,s1_,slope_,c_):\n",
    "    return Gaus(x,a1_,m1_,s1_)+Poly(x,[c_,slope_])\n",
    "print(\"\\tGaus_bk_quad(x,a_,m_,s_,sq0_,sq1_,sq2_) returns a gaus with quadratic background. # on sq is power of x\")\n",
    "def Gaus_bk_quad(x,a1_,m1_,s1_,sq0_,sq1_,sq2_):\n",
    "    return Gaus(x,a1_,m1_,s1_)+Poly(x,[sq0_,sq1_,sq2_])\n",
    "print(\"\\tGaus_bk_Poly3(x,a_,m_,s_,sq0_,sq1_,sq2_,sq3_) returns a gaus with cubic background. # on sq is power of x\")\n",
    "def Gaus_bk_Poly3(x,a1_,m1_,s1_,sq0_,sq1_,sq2_,sq3_):\n",
    "    return Gaus(x,a1_,m1_,s1_)+Poly(x,[sq0_,sq1_,sq2_,sq3_])\n",
    "print(\"\\tGaus_bk_Poly4(x,a_,m_,s_,sq0_,sq1_,sq2_,sq3_,sq4_) returns a gaus with fourth order background. # on sq is power of x\")\n",
    "def Gaus_bk_Poly4(x,a1_,m1_,s1_,sq0_,sq1_,sq2_,sq3_,sq4_):\n",
    "    return Gaus(x,a1_,m1_,s1_)+Poly(x,[sq0_,sq1_,sq2_,sq3_,sq4_])\n",
    "print(\"Negative Binomial\")\n",
    "print(\"\\tNeg_Bi_Poisson(x,r_,lambda_,a_) returns a Negative binomial Poisson Function\")\n",
    "def Neg_Bi_Poisson_n(x,r_,lambda_,a_):\n",
    "    return a_*np.power(lambda_,x)*sp.gamma(r_+x)/(sp.factorial(x)*sp.gamma(r_)*(np.power(r_+lambda_,x))*(1+(lambda_/r_))**r_)\n",
    "print(\"\\ndef Neg_Bi_Poisson(x,r_,lambda_,a_):\")\n",
    "def Neg_Bi_Poisson(x,r_,lambda_,a_):\n",
    "    output = [0 for i in range(len(x))]\n",
    "    do = True\n",
    "    for i in range(len(x)):\n",
    "        if do:\n",
    "            if Neg_Bi_Poisson_n(x[i],r_,lambda_,a_)>10**-40:\n",
    "                output[i] = Neg_Bi_Poisson_n(x[i],r_,lambda_,a_)\n",
    "            else:\n",
    "                if Neg_Bi_Poisson_n(x[i-1],r_,lambda_,a_) > Neg_Bi_Poisson_n(x[i],r_,lambda_,a_):\n",
    "                    do = False\n",
    "        else:\n",
    "            output[i] = 0.0\n",
    "    return output\n",
    "print(\"\\tNeg_Bi_Poisson2(x,r_,lambda_,a_,r2_,lambda2_,a2_) returns a sum of two Negative binomial Poisson Functions\")\n",
    "def Neg_Bi_Poisson2(x,r_,lambda_,a_,r2_,lambda2_,a2_):\n",
    "    return Neg_Bi_Poisson(x,r_,lambda_,a_) + Neg_Bi_Poisson(x,r2_,lambda2_,a2_)\n",
    "#for i in range(200):\n",
    "#    try:\n",
    "#        cont_x = [j+1+i for j in range(60+i)]\n",
    "#        name=\"fit at\"+str(60+i)\n",
    "#        plt.scatter(cont_x,Neg_Bi_Poisson(cont_x,11.0,80.0,400000.),label=name)\n",
    "#    except RuntimeWarning:\n",
    "#        print(\"Runtime warning at\",60+i)\n",
    "#plt.show()"
   ]
  },
  {
   "cell_type": "code",
   "execution_count": 15,
   "id": "7d336bb0",
   "metadata": {},
   "outputs": [
    {
     "name": "stdout",
     "output_type": "stream",
     "text": [
      "Super Gaussian\n",
      "\tSuper_Gaus(x,a_,m_,s_,p_) returns a Super Gaussian that can have flatness modified with p_\n",
      "\tSuper_Gaus_Edges(x,a_,m_,s_,p_,a1_,m1_,s1_,a2_,m2_,s2_) returns a Super Gaussian that can have flatness modified with p_ with edges of other gaussians\n",
      "\tSuper_Gaus_Bound(a_,m_,s_,p_,frac_) returns an array of the x values where the Super Gaus hits a given fraction of its max\n"
     ]
    }
   ],
   "source": [
    "print(\"Super Gaussian\")\n",
    "print(\"\\tSuper_Gaus(x,a_,m_,s_,p_) returns a Super Gaussian that can have flatness modified with p_\")\n",
    "def Super_Gaus(x,a_,m_,s_,p_):\n",
    "    return a_*np.exp(-(np.abs(x-m_)/(np.sqrt(2)*s_))**p_)\n",
    "\n",
    "print(\"\\tSuper_Gaus_Edges(x,a_,m_,s_,p_,a1_,m1_,s1_,a2_,m2_,s2_) returns a Super Gaussian that can have flatness modified with p_ with edges of other gaussians\")\n",
    "def Super_Gaus_Edges(x,a_,m_,s_,p_,a1_,m1_,s1_,a2_,m2_,s2_):\n",
    "    return Super_Gaus(x,a_,m_,s_,p_)+Gaus(x, a1_, m1_, s1_)+Gaus(x, a2_, m2_, s2_)\n",
    "\n",
    "print(\"\\tSuper_Gaus_Bound(a_,m_,s_,p_,frac_) returns an array of the x values where the Super Gaus hits a given fraction of its max\")\n",
    "def Super_Gaus_Bound(a_,m_,s_,p_,frac_):\n",
    "    bound_top= np.sqrt(2)*s_*(-np.log(frac_))**(1/p_) + m_\n",
    "    bound_low= m_ - np.sqrt(2)*s_*(-np.log(frac_))**(1/p_)\n",
    "    return [bound_low,bound_top]\n",
    "#def Erf_Gaus(x,)"
   ]
  },
  {
   "cell_type": "code",
   "execution_count": 16,
   "id": "9eb0f466",
   "metadata": {},
   "outputs": [
    {
     "name": "stdout",
     "output_type": "stream",
     "text": [
      "Poisson\n",
      "\tPoisson(x,a1_,l1_) returns a poisson\n",
      "\tPoisson_2(x,a1_,l1_,a2_,l2_) returns a double poisson\n",
      "\tdef Gaus_Poisson(x,a1_, m_, s_,a2_,l_ ): returns Gaus and Poisson\n"
     ]
    }
   ],
   "source": [
    "print(\"Poisson\")\n",
    "print(\"\\tPoisson(x,a1_,l1_) returns a poisson\")\n",
    "def Poisson(x,a_,l_):\n",
    "    return a_*stats.poisson.pmf(x,l_)\n",
    " \n",
    "print(\"\\tPoisson_2(x,a1_,l1_,a2_,l2_) returns a double poisson\")\n",
    "def Poisson_2(x,a1_,l1_,a2_,l2_):\n",
    "    return Poisson(x,a1_,l1_)+Poisson(x,a2_,l2_)\n",
    "print(\"\\tdef Gaus_Poisson(x,a1_, m_, s_,a2_,l_ ): returns Gaus and Poisson\")\n",
    "def Gaus_Poisson(x,a1_, m_, s_,a2_,l_ ):\n",
    "    return Gaus(x,a1_,m_,s_) + Poisson(x,a2_,l_)"
   ]
  },
  {
   "cell_type": "code",
   "execution_count": 17,
   "id": "080a8342",
   "metadata": {},
   "outputs": [
    {
     "name": "stdout",
     "output_type": "stream",
     "text": [
      "Breit-Wigner Stuff\n",
      "\tdef BW_e(x,a_,m_,g_): Breit-Wigner distribution with Energy as input\n",
      "\tdef BW_e2(x,a_,m_,g_): Breit-Wigner distribution with Energy Squared as input\n",
      "\tdef BW_e2_2(x,a1_,m1_,g1_,a2_,m2_,g2_): Double B-W with Energy Squared\n",
      "\tdef BW_e2_3(x,a1_,m1_,g1_,a2_,m2_,g2_,a3_,m3_,g3_): Triple B-W with Energy Squared\n",
      "\tdef BW_e2_Gaus2(x,a1_,m1_,g1_,a2_,m2_,s2_,a3_,m3_,s3_): B-W energy squared with two guassians\n"
     ]
    }
   ],
   "source": [
    "print(\"Breit-Wigner Stuff\")\n",
    "def bw_gamma(m_,g_):\n",
    "    return np.sqrt(m_*m_*(m_*m_+g_*g_))\n",
    "def bw_k(m_,g_):\n",
    "    return np.sqrt(2)*2*m_*g_*bw_gamma(m_,g_)*sign(m_)/(np.pi*np.sqrt(m_*m_+bw_gamma(m_,g_)))\n",
    "print(\"\\tdef BW_e(x,a_,m_,g_): Breit-Wigner distribution with Energy as input\")\n",
    "def BW_e(x,a_,m_,g_):\n",
    "    return a_*bw_k(m_,g_)/((x*x-m_*m_)*(x*x-m_*m_)+m_*m_*g_*g_)\n",
    "print(\"\\tdef BW_e2(x,a_,m_,g_): Breit-Wigner distribution with Energy Squared as input\")\n",
    "def BW_e2(x,a_,m_,g_):\n",
    "    return a_*bw_k(m_,g_)/((x-m_*m_)*(x-m_*m_)+m_*m_*g_*g_)\n",
    "print(\"\\tdef BW_e2_2(x,a1_,m1_,g1_,a2_,m2_,g2_): Double B-W with Energy Squared\")\n",
    "def BW_e2_2(x,a1_,m1_,g1_,a2_,m2_,g2_):\n",
    "    return BW_e2(x,a1_,m1_,g1_)+BW_e2(x,a2_,m2_,g2_)\n",
    "print(\"\\tdef BW_e2_3(x,a1_,m1_,g1_,a2_,m2_,g2_,a3_,m3_,g3_): Triple B-W with Energy Squared\")\n",
    "def BW_e2_3(x,a1_,m1_,g1_,a2_,m2_,g2_,a3_,m3_,g3_):\n",
    "    return BW_e2(x,a1_,m1_,g1_)+BW_e2(x,a2_,m2_,g2_)+BW_e2(x,a3_,m3_,g3_)\n",
    "print(\"\\tdef BW_e2_Gaus2(x,a1_,m1_,g1_,a2_,m2_,s2_,a3_,m3_,s3_): B-W energy squared with two guassians\")\n",
    "def BW_e2_Gaus2(x,a1_,m1_,g1_,a2_,m2_,s2_,a3_,m3_,s3_):\n",
    "    return BW_e2(x,a1_,m1_,g1_)+Gaus(x,a2_,m2_,s2_)+Gaus(x,a3_,m3_,s3_)"
   ]
  },
  {
   "cell_type": "code",
   "execution_count": null,
   "id": "e03d7f29",
   "metadata": {},
   "outputs": [],
   "source": []
  },
  {
   "cell_type": "code",
   "execution_count": 18,
   "id": "32ae3e28",
   "metadata": {},
   "outputs": [
    {
     "name": "stdout",
     "output_type": "stream",
     "text": [
      "Skewed Normal\n",
      "\tdef skew_norm(x_,skew_,loc_,scale_,norm_) skewed normal distribution\n",
      "\tdef skew_norm_neg_bi_poisson(x_,skew_,loc_,scale_,norm_,r_,lambda_,a_): returns skewned normal and a Negative binomial poisson\n"
     ]
    }
   ],
   "source": [
    "print(\"Skewed Normal\")\n",
    "print(\"\\tdef skew_norm(x_,skew_,loc_,scale_,norm_) skewed normal distribution\")\n",
    "def skew_norm(x_,skew_,loc_,scale_,norm_):\n",
    "    return norm_*stats.skewnorm.pdf(x_,skew_,loc=loc_,scale=scale_)\n",
    "print(\"\\tdef skew_norm_neg_bi_poisson(x_,skew_,loc_,scale_,norm_,r_,lambda_,a_): returns skewned normal and a Negative binomial poisson\")\n",
    "def skew_norm_neg_bi_poisson(x_,skew_,loc_,scale_,norm_,r_,lambda_,a_):\n",
    "    return skew_norm(x_,skew_,loc_,scale_,norm_) + Neg_Bi_Poisson(x_,r_,lambda_,a_)\n",
    "    #for i in range(len(x_)):\n",
    "    #    if x_[i]<80:\n",
    "    #        output[i] = skew_norm(x_[i],skew_,loc_,scale_,norm_) + Neg_Bi_Poisson_n(x_[i],r_,lambda_,a_)\n",
    "    #    else:\n",
    "    #        output[i] = skew_norm(x_[i],skew_,loc_,scale_,norm_)\n",
    "    #return output\n",
    "\n",
    "#cont_x = [i/2 for i in range(200)]\n",
    "#plt.scatter(cont_x,skew_norm_neg_bi_poisson(cont_x,5,70,10,500000,30,20,500000))\n",
    "#plt.show()\n",
    "\n"
   ]
  },
  {
   "cell_type": "code",
   "execution_count": null,
   "id": "66851b57",
   "metadata": {},
   "outputs": [],
   "source": []
  },
  {
   "cell_type": "code",
   "execution_count": 20,
   "id": "eab305eb",
   "metadata": {},
   "outputs": [
    {
     "name": "stdout",
     "output_type": "stream",
     "text": [
      "Landau\n",
      "\tdef landau_integrand(t_,x_,mu_,c_): Landau Integrand\n"
     ]
    }
   ],
   "source": [
    "print(\"Landau\")\n",
    "print(\"\\tdef landau_integrand(t_,x_,mu_,c_): Landau Integrand\")\n",
    "def landau_integrand(t_,x_,mu_,c_):\n",
    "    return (1./np.pi)*(1./c_)*np.exp(-t_)*np.cos(t_*((x_-mu_)/c_)+2*t_*np.log(t_/c_)/np.pi)"
   ]
  },
  {
   "cell_type": "code",
   "execution_count": 22,
   "id": "ec528a25",
   "metadata": {},
   "outputs": [
    {
     "name": "stdout",
     "output_type": "stream",
     "text": [
      "Parameterized Poisson Distribution\n",
      "\tdef Par_Poisson_n(x,p_,l_,a_): parameterized Poisson\n",
      "\tdef Par_Poisson(x,p_,l_,a_): Parameterized Poisson\n",
      "\tdef Par_Poisson2(x,p_,l_,a_,p2_,l2_,a2_): Double Par Poisson\n"
     ]
    }
   ],
   "source": [
    "print(\"Parameterized Poisson Distribution\")\n",
    "print(\"\\tdef Par_Poisson_n(x,p_,l_,a_): parameterized Poisson\")\n",
    "def Par_Poisson_n(x,p_,l_,a_):\n",
    "    return a_*(np.power(l_,x/p_)/sp.gamma(1+x/p_))*np.exp(-l_)\n",
    "print(\"\\tdef Par_Poisson(x,p_,l_,a_): Parameterized Poisson\")\n",
    "def Par_Poisson(x,p_,l_,a_):\n",
    "    #return [Par_Poisson_n(x[i],p_,l_,a_) for i in range(len(x))]\n",
    "    return a_*(l_**(x/p_)/sp.gamma(1+x/p_))*np.exp(-l_)\n",
    "print(\"\\tdef Par_Poisson2(x,p_,l_,a_,p2_,l2_,a2_): Double Par Poisson\")\n",
    "def Par_Poisson2(x,p_,l_,a_,p2_,l2_,a2_):\n",
    "    #return [Par_Poisson_n(x[i],p_,l_,a_) + Par_Poisson_n(x[i],p2_,l2_,a2_) for i in range(len(x))]\n",
    "    return Par_Poisson_n(x,p_,l_,a_) + Par_Poisson(x,p2_,l2_,a2_)"
   ]
  },
  {
   "cell_type": "code",
   "execution_count": 23,
   "id": "bee2edbc",
   "metadata": {},
   "outputs": [
    {
     "name": "stdout",
     "output_type": "stream",
     "text": [
      "enjoy using fitting functions\n",
      "\n"
     ]
    }
   ],
   "source": [
    "print(\"enjoy using fitting functions\\n\")"
   ]
  },
  {
   "cell_type": "code",
   "execution_count": null,
   "id": "fc6ab285",
   "metadata": {},
   "outputs": [],
   "source": []
  }
 ],
 "metadata": {
  "kernelspec": {
   "display_name": "Python 3 (ipykernel)",
   "language": "python",
   "name": "python3"
  },
  "language_info": {
   "codemirror_mode": {
    "name": "ipython",
    "version": 3
   },
   "file_extension": ".py",
   "mimetype": "text/x-python",
   "name": "python",
   "nbconvert_exporter": "python",
   "pygments_lexer": "ipython3",
   "version": "3.10.8"
  }
 },
 "nbformat": 4,
 "nbformat_minor": 5
}
