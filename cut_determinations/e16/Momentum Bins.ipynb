{
 "cells": [
  {
   "cell_type": "code",
   "execution_count": 1,
   "id": "2fe0896c",
   "metadata": {},
   "outputs": [],
   "source": [
    "import numpy as np\n",
    "import matplotlib.pyplot as plt\n",
    "import math\n",
    "import pandas as pd"
   ]
  },
  {
   "cell_type": "code",
   "execution_count": 2,
   "id": "b36225a0",
   "metadata": {},
   "outputs": [
    {
     "name": "stdout",
     "output_type": "stream",
     "text": [
      "*Momentum Bins*\n",
      "Current Binning: \n",
      "\tLow:  0.5  GeV\n",
      "\tTop:  5.0  GeV\n",
      "\tBins:  25\n",
      "\tResolution:  0.18  GeV\n"
     ]
    }
   ],
   "source": [
    "_pmin=0.5\n",
    "_pmax=5.0\n",
    "_pbins=25\n",
    "res=(_pmax-_pmin)/_pbins\n",
    "print(\"*Momentum Bins*\")\n",
    "print(\"Current Binning: \")\n",
    "print(\"\\tLow: \",_pmin,\" GeV\")\n",
    "print(\"\\tTop: \",_pmax,\" GeV\")\n",
    "print(\"\\tBins: \",_pbins)\n",
    "print(\"\\tResolution: \",res,\" GeV\")"
   ]
  },
  {
   "cell_type": "code",
   "execution_count": 3,
   "id": "eb7639e8",
   "metadata": {},
   "outputs": [
    {
     "name": "stdout",
     "output_type": "stream",
     "text": [
      "Available Constants:\n",
      "\t_pmin=0.5 GeV\n",
      "\t_pmax=5.0 GeV\n",
      "\t_pbins=25\n",
      "Available Functions\n"
     ]
    }
   ],
   "source": [
    "_plow=[str.format('{0:.3f}',_pmin+res*i) for i in range(_pbins)]\n",
    "_ptop=[str.format('{0:.3f}',_pmin+res*(i+1)) for i in range(_pbins)]\n",
    "_pname=[_plow[i]+\"-\"+_ptop[i] for i in range(_pbins)]\n",
    "print(\"Available Constants:\")\n",
    "print(\"\\t_pmin=0.5 GeV\")\n",
    "print(\"\\t_pmax=5.0 GeV\")\n",
    "print(\"\\t_pbins=25\")\n",
    "print(\"Available Functions\")"
   ]
  },
  {
   "cell_type": "code",
   "execution_count": 4,
   "id": "ccde7b16",
   "metadata": {},
   "outputs": [],
   "source": [
    "print(\"Pbin(p_,print=False) returns the pbin for a given momentum (GeV)\")\n",
    "def Pbin(p_,print_=False):\n",
    "    if p_<_pmin or p_>_pmin:\n",
    "        if print_:\n",
    "            print(\"Out of momentum bounds\")\n",
    "            print(\"given value: \",p_,\" bounds:\",_pmin,\"-\",_pmax)\n",
    "        return -1\n",
    "    elif p_ >= _pmin and p_<=_pmax:\n",
    "        for i in range(_pbins):\n",
    "            if p_ >= _plot+res*i and p_<=_plow+res(i+1):\n",
    "                return i\n",
    "\n",
    "def Plow(pbin_):\n",
    "    return plow_+res*pbin_\n",
    "\n",
    "def Ptop(pbin_):\n",
    "    return _plow_+res*(pbin_+1)\n",
    "\n",
    "def Pcenter(pbin_):\n",
    "    return _plow_+res*(pbin_+0.5)\n",
    "\n"
   ]
  },
  {
   "cell_type": "code",
   "execution_count": 5,
   "id": "67ca246a",
   "metadata": {},
   "outputs": [
    {
     "name": "stdout",
     "output_type": "stream",
     "text": [
      "Pbin(p_,print=False) returns the pbin for a given momentum (GeV)\n",
      "Plow(pbin_) returns the low bound for a given pbin (GeV)\n",
      "Ptop(pbin_) returns the top bound for a given pbin (GeV)\n",
      "Pcenter(pbin_) returns the center value for a given pbin (GeV)\n"
     ]
    }
   ],
   "source": [
    "\n",
    "print(\"Plow(pbin_) returns the low bound for a given pbin (GeV)\")\n",
    "print(\"Ptop(pbin_) returns the top bound for a given pbin (GeV)\")\n",
    "print(\"Pcenter(pbin_) returns the center value for a given pbin (GeV)\")"
   ]
  },
  {
   "cell_type": "code",
   "execution_count": 6,
   "id": "e021d9e7",
   "metadata": {},
   "outputs": [
    {
     "name": "stdout",
     "output_type": "stream",
     "text": [
      "Pwrite(pbin_) returns a string of the given momentum bounds for a given pbin\n"
     ]
    }
   ],
   "source": [
    "def Pwrite(pbin_):\n",
    "    return _pname[pbin_]\n",
    "print(\"Pwrite(pbin_) returns a string of the given momentum bounds for a given pbin\")"
   ]
  },
  {
   "cell_type": "code",
   "execution_count": 7,
   "id": "4734af30",
   "metadata": {},
   "outputs": [
    {
     "name": "stdout",
     "output_type": "stream",
     "text": [
      "Enjoy using Momentum Bins\n",
      "\n"
     ]
    }
   ],
   "source": [
    "print(\"Enjoy using Momentum Bins\\n\")"
   ]
  },
  {
   "cell_type": "code",
   "execution_count": null,
   "id": "bc0766ab",
   "metadata": {},
   "outputs": [],
   "source": []
  }
 ],
 "metadata": {
  "kernelspec": {
   "display_name": "Python 3 (ipykernel)",
   "language": "python",
   "name": "python3"
  },
  "language_info": {
   "codemirror_mode": {
    "name": "ipython",
    "version": 3
   },
   "file_extension": ".py",
   "mimetype": "text/x-python",
   "name": "python",
   "nbconvert_exporter": "python",
   "pygments_lexer": "ipython3",
   "version": "3.8.9"
  }
 },
 "nbformat": 4,
 "nbformat_minor": 5
}
