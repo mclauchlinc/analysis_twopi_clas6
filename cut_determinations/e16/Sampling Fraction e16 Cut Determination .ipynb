{
 "cells": [
  {
   "cell_type": "code",
   "execution_count": 1,
   "id": "dc88df90",
   "metadata": {},
   "outputs": [],
   "source": [
    "import numpy as np\n",
    "import matplotlib.pyplot as plt\n",
    "import math\n",
    "import pandas as pd\n",
    "import uproot\n"
   ]
  },
  {
   "cell_type": "code",
   "execution_count": 18,
   "id": "70514131",
   "metadata": {},
   "outputs": [
    {
     "name": "stdout",
     "output_type": "stream",
     "text": [
      "Defaulting to user installation because normal site-packages is not writeable\n",
      "Collecting hist\n",
      "  Downloading hist-2.6.1-py3-none-any.whl (35 kB)\n",
      "Requirement already satisfied: numpy>=1.14.5 in /Users/cmc/Library/Python/3.8/lib/python/site-packages (from hist) (1.23.1)\n",
      "Collecting histoprint>=2.2.0\n",
      "  Downloading histoprint-2.4.0-py3-none-any.whl (16 kB)\n",
      "Collecting boost-histogram~=1.3.1\n",
      "  Downloading boost_histogram-1.3.1-cp38-cp38-macosx_10_9_universal2.whl (3.0 MB)\n",
      "\u001b[2K     \u001b[90m━━━━━━━━━━━━━━━━━━━━━━━━━━━━━━━━━━━━━━━━\u001b[0m \u001b[32m3.0/3.0 MB\u001b[0m \u001b[31m604.0 kB/s\u001b[0m eta \u001b[36m0:00:00\u001b[0m00:01\u001b[0m00:01\u001b[0m\n",
      "\u001b[?25hCollecting click>=7.0.0\n",
      "  Downloading click-8.1.3-py3-none-any.whl (96 kB)\n",
      "\u001b[2K     \u001b[90m━━━━━━━━━━━━━━━━━━━━━━━━━━━━━━━━━━━━━━━━\u001b[0m \u001b[32m96.6/96.6 kB\u001b[0m \u001b[31m1.6 MB/s\u001b[0m eta \u001b[36m0:00:00\u001b[0ma \u001b[36m0:00:01\u001b[0m\n",
      "\u001b[?25hCollecting uhi>=0.2.1\n",
      "  Downloading uhi-0.3.1-py3-none-any.whl (9.8 kB)\n",
      "Installing collected packages: uhi, click, boost-histogram, histoprint, hist\n",
      "Successfully installed boost-histogram-1.3.1 click-8.1.3 hist-2.6.1 histoprint-2.4.0 uhi-0.3.1\n",
      "\n",
      "\u001b[1m[\u001b[0m\u001b[34;49mnotice\u001b[0m\u001b[1;39;49m]\u001b[0m\u001b[39;49m A new release of pip available: \u001b[0m\u001b[31;49m22.1.2\u001b[0m\u001b[39;49m -> \u001b[0m\u001b[32;49m22.2.2\u001b[0m\n",
      "\u001b[1m[\u001b[0m\u001b[34;49mnotice\u001b[0m\u001b[1;39;49m]\u001b[0m\u001b[39;49m To update, run: \u001b[0m\u001b[32;49m/Library/Developer/CommandLineTools/usr/bin/python3 -m pip install --upgrade pip\u001b[0m\n",
      "Note: you may need to restart the kernel to use updated packages.\n"
     ]
    }
   ],
   "source": [
    "pip install hist"
   ]
  },
  {
   "cell_type": "code",
   "execution_count": 2,
   "id": "121a3005",
   "metadata": {},
   "outputs": [
    {
     "name": "stdout",
     "output_type": "stream",
     "text": [
      "*Bin Conversions*\n",
      "Available Functions:\n",
      "Note: All functions return new arrays rather than altering the previous array\n",
      "Merge_Bins(array_,merge_size_) adds together every <merge_size_> values in an array\n",
      "Merge_Y(yarray_,merge_size_) adds together every <merge_size_> ybin together in an array\n",
      "Merge_X(xarray_,merge_size_) averages every <merge_size_> xbins together in an array\n",
      "Count_Non_Zero(array_) counts the number of nonzero values in an array\n",
      "Count_Zero(array_) counts the number of zeros in an array\n",
      "Remove_Zeros(array_) remove zeros from an array\n",
      "Remove_Zeros_Y(yarray_) removes zero values from yarray\n",
      "Remove_Zeros_X(xarray_,yarray_) removes xbins where the corresponding y value was zero\n",
      "Count_InBounds(yarray_,low_,high_) counts the number of values that fall between bounds (or equal to)\n",
      "Count_OutBounds(yarray_,low_,high_) counts the number of values that fall outside of bounds (not equal)\n",
      "Bounds_on_Y(yarray_,low_,high_) removes all values not between or equal to bounds\n",
      "Bounds_on_X(xarray_,yarray_,low_,high_) removes all xbins where corresponding y values are not between bounds\n",
      "Have fun working with arrays\n",
      "\n",
      "*Momentum Bins*\n",
      "Current Binning: \n",
      "\tLow:  0.5  GeV\n",
      "\tTop:  5.0  GeV\n",
      "\tBins:  25\n",
      "\tResolution:  0.18  GeV\n",
      "Available Constants:\n",
      "\t_pmin=0.5 GeV\n",
      "\t_pmax=5.0 GeV\n",
      "\t_pbins=25\n",
      "Available Functions\n",
      "Pbin(p_,print=False) returns the pbin for a given momentum (GeV)\n",
      "Plow(pbin_) returns the low bound for a given pbin (GeV)\n",
      "Ptop(pbin_) returns the top bound for a given pbin (GeV)\n",
      "Pcenter(pbin_) returns the center value for a given pbin (GeV)\n",
      "Pwrite(pbin_) returns a string of the given momentum bounds for a given pbin\n",
      "Enjoy using Momentum Bins\n",
      "\n"
     ]
    }
   ],
   "source": [
    "#Gain access to functions used to change some of the aspects regarding arrays and the things in them\n",
    "%run /Users/cmc/analysis_phd/analysis_twopi_clas6/cut_determinations/e16/Bin\\ Conversions.ipynb\n",
    "\n",
    "#Gain Access to functions used to work with momentum binning\n",
    "%run /Users/cmc/analysis_phd/analysis_twopi_clas6/cut_determinations/e16/Momentum\\ Bins.ipynb"
   ]
  },
  {
   "cell_type": "code",
   "execution_count": 24,
   "id": "01507559",
   "metadata": {},
   "outputs": [],
   "source": [
    "dir=\"/Users/cmc/analysis_phd/root_files/cut_determination/cut_det_e16/06-13-2022\"\n",
    "root_file=dir+\"/exp_sf_e16_06-13-2022_13866485.root\"\n",
    "file=uproot.open(root_file)\n",
    "#histogram_root=root_file+\":SF/sf_pid/sf_pid_cut/sf_pid_cut_mnone/sf_pid_cut_mnone_sec1/sf_pid_cut_mnone_sec1_W_range/SF_pid_cut_mnone_sec1_W:in_range\"\n",
    "#hist=uproot.open(histogram_root)\n"
   ]
  },
  {
   "cell_type": "code",
   "execution_count": 27,
   "id": "8d5e8750",
   "metadata": {},
   "outputs": [
    {
     "name": "stdout",
     "output_type": "stream",
     "text": [
      "{'SF_pid_cut_mnone_sec1_W:in_range;1': 'TH2F', 'SF_pid_cut_mnone_sec1_W:all;1': 'TH2F'}\n",
      "['SF_pid_cut_mnone_sec1_W:in_range;1', 'SF_pid_cut_mnone_sec1_W:all;1']\n",
      "SF_pid_cut_mnone_sec1_W:in_range;1\n"
     ]
    },
    {
     "ename": "RecursionError",
     "evalue": "maximum recursion depth exceeded while calling a Python object",
     "output_type": "error",
     "traceback": [
      "\u001b[0;31m---------------------------------------------------------------------------\u001b[0m",
      "\u001b[0;31mRecursionError\u001b[0m                            Traceback (most recent call last)",
      "Input \u001b[0;32mIn [27]\u001b[0m, in \u001b[0;36m<cell line: 7>\u001b[0;34m()\u001b[0m\n\u001b[1;32m      5\u001b[0m \u001b[38;5;28mprint\u001b[39m(test\u001b[38;5;241m.\u001b[39mkeys())\n\u001b[1;32m      6\u001b[0m \u001b[38;5;28mprint\u001b[39m(key0)\n\u001b[0;32m----> 7\u001b[0m \u001b[43mtest\u001b[49m\u001b[43m[\u001b[49m\u001b[43mkey0\u001b[49m\u001b[43m]\u001b[49m\u001b[38;5;241m.\u001b[39mall_members\n",
      "File \u001b[0;32m~/Library/Python/3.8/lib/python/site-packages/uproot/reading.py:2089\u001b[0m, in \u001b[0;36mReadOnlyDirectory.__getitem__\u001b[0;34m(self, where)\u001b[0m\n\u001b[1;32m   2087\u001b[0m     \u001b[38;5;28;01melse\u001b[39;00m:\n\u001b[1;32m   2088\u001b[0m         last \u001b[38;5;241m=\u001b[39m step\n\u001b[0;32m-> 2089\u001b[0m         step \u001b[38;5;241m=\u001b[39m \u001b[43mstep\u001b[49m\u001b[43m[\u001b[49m\u001b[43mitem\u001b[49m\u001b[43m]\u001b[49m\n\u001b[1;32m   2091\u001b[0m \u001b[38;5;28;01melif\u001b[39;00m \u001b[38;5;28misinstance\u001b[39m(step, uproot\u001b[38;5;241m.\u001b[39mbehaviors\u001b[38;5;241m.\u001b[39mTBranch\u001b[38;5;241m.\u001b[39mHasBranches):\n\u001b[1;32m   2092\u001b[0m     \u001b[38;5;28;01mreturn\u001b[39;00m step[\u001b[38;5;124m\"\u001b[39m\u001b[38;5;124m/\u001b[39m\u001b[38;5;124m\"\u001b[39m\u001b[38;5;241m.\u001b[39mjoin(items[i:])]\n",
      "File \u001b[0;32m~/Library/Python/3.8/lib/python/site-packages/uproot/reading.py:2089\u001b[0m, in \u001b[0;36mReadOnlyDirectory.__getitem__\u001b[0;34m(self, where)\u001b[0m\n\u001b[1;32m   2087\u001b[0m     \u001b[38;5;28;01melse\u001b[39;00m:\n\u001b[1;32m   2088\u001b[0m         last \u001b[38;5;241m=\u001b[39m step\n\u001b[0;32m-> 2089\u001b[0m         step \u001b[38;5;241m=\u001b[39m \u001b[43mstep\u001b[49m\u001b[43m[\u001b[49m\u001b[43mitem\u001b[49m\u001b[43m]\u001b[49m\n\u001b[1;32m   2091\u001b[0m \u001b[38;5;28;01melif\u001b[39;00m \u001b[38;5;28misinstance\u001b[39m(step, uproot\u001b[38;5;241m.\u001b[39mbehaviors\u001b[38;5;241m.\u001b[39mTBranch\u001b[38;5;241m.\u001b[39mHasBranches):\n\u001b[1;32m   2092\u001b[0m     \u001b[38;5;28;01mreturn\u001b[39;00m step[\u001b[38;5;124m\"\u001b[39m\u001b[38;5;124m/\u001b[39m\u001b[38;5;124m\"\u001b[39m\u001b[38;5;241m.\u001b[39mjoin(items[i:])]\n",
      "    \u001b[0;31m[... skipping similar frames: ReadOnlyDirectory.__getitem__ at line 2089 (2966 times)]\u001b[0m\n",
      "File \u001b[0;32m~/Library/Python/3.8/lib/python/site-packages/uproot/reading.py:2089\u001b[0m, in \u001b[0;36mReadOnlyDirectory.__getitem__\u001b[0;34m(self, where)\u001b[0m\n\u001b[1;32m   2087\u001b[0m     \u001b[38;5;28;01melse\u001b[39;00m:\n\u001b[1;32m   2088\u001b[0m         last \u001b[38;5;241m=\u001b[39m step\n\u001b[0;32m-> 2089\u001b[0m         step \u001b[38;5;241m=\u001b[39m \u001b[43mstep\u001b[49m\u001b[43m[\u001b[49m\u001b[43mitem\u001b[49m\u001b[43m]\u001b[49m\n\u001b[1;32m   2091\u001b[0m \u001b[38;5;28;01melif\u001b[39;00m \u001b[38;5;28misinstance\u001b[39m(step, uproot\u001b[38;5;241m.\u001b[39mbehaviors\u001b[38;5;241m.\u001b[39mTBranch\u001b[38;5;241m.\u001b[39mHasBranches):\n\u001b[1;32m   2092\u001b[0m     \u001b[38;5;28;01mreturn\u001b[39;00m step[\u001b[38;5;124m\"\u001b[39m\u001b[38;5;124m/\u001b[39m\u001b[38;5;124m\"\u001b[39m\u001b[38;5;241m.\u001b[39mjoin(items[i:])]\n",
      "File \u001b[0;32m~/Library/Python/3.8/lib/python/site-packages/uproot/reading.py:2072\u001b[0m, in \u001b[0;36mReadOnlyDirectory.__getitem__\u001b[0;34m(self, where)\u001b[0m\n\u001b[1;32m   2070\u001b[0m \u001b[38;5;28;01mif\u001b[39;00m item \u001b[38;5;241m!=\u001b[39m \u001b[38;5;124m\"\u001b[39m\u001b[38;5;124m\"\u001b[39m:\n\u001b[1;32m   2071\u001b[0m     \u001b[38;5;28;01mif\u001b[39;00m \u001b[38;5;28misinstance\u001b[39m(step, ReadOnlyDirectory):\n\u001b[0;32m-> 2072\u001b[0m         \u001b[38;5;28;01mif\u001b[39;00m \u001b[38;5;124m\"\u001b[39m\u001b[38;5;124m:\u001b[39m\u001b[38;5;124m\"\u001b[39m \u001b[38;5;129;01min\u001b[39;00m item \u001b[38;5;129;01mand\u001b[39;00m \u001b[43mitem\u001b[49m\u001b[43m \u001b[49m\u001b[38;5;129;43;01mnot\u001b[39;49;00m\u001b[43m \u001b[49m\u001b[38;5;129;43;01min\u001b[39;49;00m\u001b[43m \u001b[49m\u001b[43mstep\u001b[49m:\n\u001b[1;32m   2073\u001b[0m             index \u001b[38;5;241m=\u001b[39m item\u001b[38;5;241m.\u001b[39mindex(\u001b[38;5;124m\"\u001b[39m\u001b[38;5;124m:\u001b[39m\u001b[38;5;124m\"\u001b[39m)\n\u001b[1;32m   2074\u001b[0m             head, tail \u001b[38;5;241m=\u001b[39m item[:index], item[index \u001b[38;5;241m+\u001b[39m \u001b[38;5;241m1\u001b[39m :]\n",
      "File \u001b[0;32m~/Library/Python/3.8/lib/python/site-packages/uproot/reading.py:1922\u001b[0m, in \u001b[0;36mReadOnlyDirectory.__contains__\u001b[0;34m(self, where)\u001b[0m\n\u001b[1;32m   1920\u001b[0m \u001b[38;5;28;01mdef\u001b[39;00m \u001b[38;5;21m__contains__\u001b[39m(\u001b[38;5;28mself\u001b[39m, where):\n\u001b[1;32m   1921\u001b[0m     \u001b[38;5;28;01mtry\u001b[39;00m:\n\u001b[0;32m-> 1922\u001b[0m         \u001b[38;5;28;43mself\u001b[39;49m\u001b[38;5;241;43m.\u001b[39;49m\u001b[43mkey\u001b[49m\u001b[43m(\u001b[49m\u001b[43mwhere\u001b[49m\u001b[43m)\u001b[49m\n\u001b[1;32m   1923\u001b[0m     \u001b[38;5;28;01mexcept\u001b[39;00m \u001b[38;5;167;01mKeyError\u001b[39;00m:\n\u001b[1;32m   1924\u001b[0m         \u001b[38;5;28;01mreturn\u001b[39;00m \u001b[38;5;28;01mFalse\u001b[39;00m\n",
      "File \u001b[0;32m~/Library/Python/3.8/lib/python/site-packages/uproot/reading.py:2014\u001b[0m, in \u001b[0;36mReadOnlyDirectory.key\u001b[0;34m(self, where)\u001b[0m\n\u001b[1;32m   2000\u001b[0m \u001b[38;5;28;01mdef\u001b[39;00m \u001b[38;5;21mkey\u001b[39m(\u001b[38;5;28mself\u001b[39m, where):\n\u001b[1;32m   2001\u001b[0m     \u001b[38;5;124;03m\"\"\"\u001b[39;00m\n\u001b[1;32m   2002\u001b[0m \u001b[38;5;124;03m    Returns a ``TKey`` (:doc:`uproot.reading.ReadOnlyKey`) for the object\u001b[39;00m\n\u001b[1;32m   2003\u001b[0m \u001b[38;5;124;03m    selected by ``where``.\u001b[39;00m\n\u001b[0;32m   (...)\u001b[0m\n\u001b[1;32m   2012\u001b[0m \u001b[38;5;124;03m    Note that this does not read any data from the file.\u001b[39;00m\n\u001b[1;32m   2013\u001b[0m \u001b[38;5;124;03m    \"\"\"\u001b[39;00m\n\u001b[0;32m-> 2014\u001b[0m     where \u001b[38;5;241m=\u001b[39m \u001b[43muproot\u001b[49m\u001b[38;5;241;43m.\u001b[39;49m\u001b[43m_util\u001b[49m\u001b[38;5;241;43m.\u001b[39;49m\u001b[43mensure_str\u001b[49m\u001b[43m(\u001b[49m\u001b[43mwhere\u001b[49m\u001b[43m)\u001b[49m\n\u001b[1;32m   2016\u001b[0m     \u001b[38;5;28;01mif\u001b[39;00m \u001b[38;5;124m\"\u001b[39m\u001b[38;5;124m/\u001b[39m\u001b[38;5;124m\"\u001b[39m \u001b[38;5;129;01min\u001b[39;00m where:\n\u001b[1;32m   2017\u001b[0m         items \u001b[38;5;241m=\u001b[39m where\u001b[38;5;241m.\u001b[39msplit(\u001b[38;5;124m\"\u001b[39m\u001b[38;5;124m/\u001b[39m\u001b[38;5;124m\"\u001b[39m)\n",
      "File \u001b[0;32m~/Library/Python/3.8/lib/python/site-packages/uproot/_util.py:67\u001b[0m, in \u001b[0;36mensure_str\u001b[0;34m(x)\u001b[0m\n\u001b[1;32m     63\u001b[0m \u001b[38;5;28;01mdef\u001b[39;00m \u001b[38;5;21mensure_str\u001b[39m(x):\n\u001b[1;32m     64\u001b[0m     \u001b[38;5;124;03m\"\"\"\u001b[39;00m\n\u001b[1;32m     65\u001b[0m \u001b[38;5;124;03m    Ensures that ``x`` is a string (decoding with 'surrogateescape' if necessary).\u001b[39;00m\n\u001b[1;32m     66\u001b[0m \u001b[38;5;124;03m    \"\"\"\u001b[39;00m\n\u001b[0;32m---> 67\u001b[0m     \u001b[38;5;28;01mif\u001b[39;00m \u001b[38;5;28;43misinstance\u001b[39;49m\u001b[43m(\u001b[49m\u001b[43mx\u001b[49m\u001b[43m,\u001b[49m\u001b[43m \u001b[49m\u001b[38;5;28;43mbytes\u001b[39;49m\u001b[43m)\u001b[49m:\n\u001b[1;32m     68\u001b[0m         \u001b[38;5;28;01mreturn\u001b[39;00m x\u001b[38;5;241m.\u001b[39mdecode(errors\u001b[38;5;241m=\u001b[39m\u001b[38;5;124m\"\u001b[39m\u001b[38;5;124msurrogateescape\u001b[39m\u001b[38;5;124m\"\u001b[39m)\n\u001b[1;32m     69\u001b[0m     \u001b[38;5;28;01melif\u001b[39;00m \u001b[38;5;28misinstance\u001b[39m(x, \u001b[38;5;28mstr\u001b[39m):\n",
      "\u001b[0;31mRecursionError\u001b[0m: maximum recursion depth exceeded while calling a Python object"
     ]
    }
   ],
   "source": [
    "test=file['SF/sf_pid/sf_pid_cut/sf_pid_cut_mnone/sf_pid_cut_mnone_sec1/sf_pid_cut_mnone_sec1_W_range']\n",
    "key0=test.keys()[0]\n",
    "#hist = file['SF/sf_pid/sf_pid_cut/sf_pid_cut_mnone/sf_pid_cut_mnone_sec1/sf_pid_cut_mnone_sec1_W_range']['SF_pid_cut_mnone_sec1_W:in_range'].to_numpy()\n",
    "print(test.classnames())\n",
    "print(test.keys())\n",
    "print(key0)\n",
    "test.all_members\n",
    "\n",
    "\n"
   ]
  },
  {
   "cell_type": "code",
   "execution_count": 20,
   "id": "188ee12b",
   "metadata": {},
   "outputs": [
    {
     "data": {
      "text/plain": [
       "{'@fUniqueID': 0,\n",
       " '@fBits': 50331656,\n",
       " 'fName': 'hpxpy',\n",
       " 'fTitle': 'py vs px',\n",
       " 'fLineColor': 602,\n",
       " 'fLineStyle': 1,\n",
       " 'fLineWidth': 1,\n",
       " 'fFillColor': 0,\n",
       " 'fFillStyle': 1001,\n",
       " 'fMarkerColor': 1,\n",
       " 'fMarkerStyle': 1,\n",
       " 'fMarkerSize': 1.0,\n",
       " 'fNcells': 1764,\n",
       " 'fXaxis': <TAxis (version 9) at 0x000288fcba00>,\n",
       " 'fYaxis': <TAxis (version 9) at 0x000288fcbd30>,\n",
       " 'fZaxis': <TAxis (version 9) at 0x000288fcd0a0>,\n",
       " 'fBarOffset': 0,\n",
       " 'fBarWidth': 1000,\n",
       " 'fEntries': 75000.0,\n",
       " 'fTsumw': 74985.0,\n",
       " 'fTsumw2': 74985.0,\n",
       " 'fTsumwx': -100.10457871670951,\n",
       " 'fTsumwx2': 75243.79786448888,\n",
       " 'fMaximum': -1111.0,\n",
       " 'fMinimum': -1111.0,\n",
       " 'fNormFactor': 0.0,\n",
       " 'fContour': <TArrayD [] at 0x000288fcd3d0>,\n",
       " 'fSumw2': <TArrayD [] at 0x000288fcd430>,\n",
       " 'fOption': <TString '' at 0x000288fc2f20>,\n",
       " 'fFunctions': <TList of 0 items at 0x000288fcd520>,\n",
       " 'fBufferSize': 0,\n",
       " 'fBuffer': array([], dtype=float64),\n",
       " 'fBinStatErrOpt': 0,\n",
       " 'fScalefactor': 1.0,\n",
       " 'fTsumwy': -34.521904355337256,\n",
       " 'fTsumwy2': 75114.68604250801,\n",
       " 'fTsumwxy': -93.37407202686268,\n",
       " 'fN': 1764}"
      ]
     },
     "execution_count": 20,
     "metadata": {},
     "output_type": "execute_result"
    }
   ],
   "source": [
    "import uproot\n",
    "file2 = uproot.open(\"https://scikit-hep.org/uproot3/examples/hepdata-example.root\")\n",
    "file2[\"hpxpy\"].all_members\n",
    "#plt.show()"
   ]
  },
  {
   "cell_type": "code",
   "execution_count": null,
   "id": "b9c9a0a8",
   "metadata": {},
   "outputs": [],
   "source": []
  }
 ],
 "metadata": {
  "kernelspec": {
   "display_name": "Python 3 (ipykernel)",
   "language": "python",
   "name": "python3"
  },
  "language_info": {
   "codemirror_mode": {
    "name": "ipython",
    "version": 3
   },
   "file_extension": ".py",
   "mimetype": "text/x-python",
   "name": "python",
   "nbconvert_exporter": "python",
   "pygments_lexer": "ipython3",
   "version": "3.8.9"
  }
 },
 "nbformat": 4,
 "nbformat_minor": 5
}
