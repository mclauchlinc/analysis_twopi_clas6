{
 "cells": [
  {
   "cell_type": "code",
   "execution_count": 1,
   "id": "b54e4d24",
   "metadata": {},
   "outputs": [],
   "source": [
    "import numpy as np\n",
    "import matplotlib.pyplot as plt\n",
    "import math\n",
    "import pandas as pd\n",
    "import uproot"
   ]
  },
  {
   "cell_type": "code",
   "execution_count": 2,
   "id": "327f53ec",
   "metadata": {},
   "outputs": [
    {
     "name": "stdout",
     "output_type": "stream",
     "text": [
      "*Bin Conversions*\n",
      "Available Functions:\n",
      "Note: All functions return new arrays rather than altering the previous array\n",
      "Merge_Bins(array_,merge_size_) adds together every <merge_size_> values in an array\n",
      "Merge_Y(yarray_,merge_size_) adds together every <merge_size_> ybin together in an array\n",
      "Merge_X(xarray_,merge_size_) averages every <merge_size_> xbins together in an array\n",
      "Count_Non_Zero(array_) counts the number of nonzero values in an array\n",
      "Count_Zero(array_) counts the number of zeros in an array\n",
      "Remove_Zeros(array_) remove zeros from an array\n",
      "Remove_Zeros_Y(yarray_) removes zero values from yarray\n",
      "Remove_Zeros_X(xarray_,yarray_) removes xbins where the corresponding y value was zero\n",
      "Count_InBounds(yarray_,low_,high_) counts the number of values that fall between bounds (or equal to)\n",
      "Count_OutBounds(yarray_,low_,high_) counts the number of values that fall outside of bounds (not equal)\n",
      "Bounds_on_Y(yarray_,low_,high_) removes all values not between or equal to bounds\n",
      "Bounds_on_X(xarray_,yarray_,low_,high_) removes all xbins where corresponding y values are not between bounds\n",
      "Have fun working with arrays\n",
      "\n",
      "*Momentum Bins*\n",
      "Current Binning: \n",
      "\tLow:  0.5  GeV\n",
      "\tTop:  5.0  GeV\n",
      "\tBins:  25\n",
      "\tResolution:  0.18  GeV\n",
      "Available Constants:\n",
      "\t_pmin=0.5 GeV\n",
      "\t_pmax=5.0 GeV\n",
      "\t_pbins=25\n",
      "Available Functions\n",
      "Pbin(p_,print=False) returns the pbin for a given momentum (GeV)\n",
      "Plow(pbin_) returns the low bound for a given pbin (GeV)\n",
      "Ptop(pbin_) returns the top bound for a given pbin (GeV)\n",
      "Pcenter(pbin_) returns the center value for a given pbin (GeV)\n",
      "Pwrite(pbin_) returns a string of the given momentum bounds for a given pbin\n",
      "Enjoy using Momentum Bins\n",
      "\n"
     ]
    }
   ],
   "source": [
    "#Gain access to functions used to change some of the aspects regarding arrays and the things in them\n",
    "%run /Users/cmc/analysis_phd/analysis_twopi_clas6/cut_determinations/e16/Bin\\ Conversions.ipynb\n",
    "\n",
    "#Gain Access to functions used to work with momentum binning\n",
    "%run /Users/cmc/analysis_phd/analysis_twopi_clas6/cut_determinations/e16/Momentum\\ Bins.ipynb"
   ]
  },
  {
   "cell_type": "code",
   "execution_count": 3,
   "id": "93f2bf46",
   "metadata": {},
   "outputs": [],
   "source": [
    "dir=\"/Users/cmc/analysis_phd/root_files/cut_determination/cut_det_e16/06-13-2022\"\n",
    "root_file=dir+\"/exp_fid_ele_e16_06-13-2022_13866481.root\"\n",
    "file=uproot.open(root_file)"
   ]
  },
  {
   "cell_type": "code",
   "execution_count": 4,
   "id": "c60e0ec4",
   "metadata": {},
   "outputs": [],
   "source": [
    "layer_1=\"Fiducial\"\n",
    "layer_2=\"Fid ele PID Cuts\"\n",
    "layer_3=\"Fid ele pid Cut\"\n",
    "layer_4=\"Fid ele pid p_dep Cut\"\n",
    "layer_5=[\"Fid ele pid p_dep sec\" + str(i+1) + \" Cut\" for i in range(6)]\n",
    "layer_6=[[\"Fid_ele_pid_sec\"+str(i+1)+\"_cut_no-weight_mnone_p:\"+Pwrite(j) for j in range(_pbins)] for i in range(6)]"
   ]
  },
  {
   "cell_type": "code",
   "execution_count": 5,
   "id": "e6b75f91",
   "metadata": {},
   "outputs": [
    {
     "name": "stdout",
     "output_type": "stream",
     "text": [
      "old 3000\n",
      "new 20000\n"
     ]
    }
   ],
   "source": [
    "import sys\n",
    "print(\"old\",sys.getrecursionlimit())\n",
    "sys.setrecursionlimit(20000)\n",
    "print(\"new\",sys.getrecursionlimit())"
   ]
  },
  {
   "cell_type": "code",
   "execution_count": 6,
   "id": "62b94daa",
   "metadata": {},
   "outputs": [
    {
     "ename": "RecursionError",
     "evalue": "maximum recursion depth exceeded while calling a Python object",
     "output_type": "error",
     "traceback": [
      "\u001b[0;31m---------------------------------------------------------------------------\u001b[0m",
      "\u001b[0;31mRecursionError\u001b[0m                            Traceback (most recent call last)",
      "Input \u001b[0;32mIn [6]\u001b[0m, in \u001b[0;36m<cell line: 3>\u001b[0;34m()\u001b[0m\n\u001b[1;32m      1\u001b[0m sec\u001b[38;5;241m=\u001b[39m\u001b[38;5;241m0\u001b[39m\n\u001b[1;32m      2\u001b[0m pbin\u001b[38;5;241m=\u001b[39m\u001b[38;5;241m7\u001b[39m\n\u001b[0;32m----> 3\u001b[0m histo\u001b[38;5;241m=\u001b[39m\u001b[43mfile\u001b[49m\u001b[43m[\u001b[49m\u001b[43mlayer_1\u001b[49m\u001b[43m]\u001b[49m\u001b[43m[\u001b[49m\u001b[43mlayer_2\u001b[49m\u001b[43m]\u001b[49m\u001b[43m[\u001b[49m\u001b[43mlayer_3\u001b[49m\u001b[43m]\u001b[49m\u001b[43m[\u001b[49m\u001b[43mlayer_4\u001b[49m\u001b[43m]\u001b[49m\u001b[43m[\u001b[49m\u001b[43mlayer_5\u001b[49m\u001b[43m[\u001b[49m\u001b[43msec\u001b[49m\u001b[43m]\u001b[49m\u001b[43m]\u001b[49m\u001b[43m[\u001b[49m\u001b[43mlayer_6\u001b[49m\u001b[43m[\u001b[49m\u001b[43msec\u001b[49m\u001b[43m]\u001b[49m\u001b[43m[\u001b[49m\u001b[43mpbin\u001b[49m\u001b[43m]\u001b[49m\u001b[43m]\u001b[49m\u001b[38;5;241m.\u001b[39mkeys()\n",
      "File \u001b[0;32m~/Library/Python/3.8/lib/python/site-packages/uproot/reading.py:2089\u001b[0m, in \u001b[0;36mReadOnlyDirectory.__getitem__\u001b[0;34m(self, where)\u001b[0m\n\u001b[1;32m   2087\u001b[0m     \u001b[38;5;28;01melse\u001b[39;00m:\n\u001b[1;32m   2088\u001b[0m         last \u001b[38;5;241m=\u001b[39m step\n\u001b[0;32m-> 2089\u001b[0m         step \u001b[38;5;241m=\u001b[39m \u001b[43mstep\u001b[49m\u001b[43m[\u001b[49m\u001b[43mitem\u001b[49m\u001b[43m]\u001b[49m\n\u001b[1;32m   2091\u001b[0m \u001b[38;5;28;01melif\u001b[39;00m \u001b[38;5;28misinstance\u001b[39m(step, uproot\u001b[38;5;241m.\u001b[39mbehaviors\u001b[38;5;241m.\u001b[39mTBranch\u001b[38;5;241m.\u001b[39mHasBranches):\n\u001b[1;32m   2092\u001b[0m     \u001b[38;5;28;01mreturn\u001b[39;00m step[\u001b[38;5;124m\"\u001b[39m\u001b[38;5;124m/\u001b[39m\u001b[38;5;124m\"\u001b[39m\u001b[38;5;241m.\u001b[39mjoin(items[i:])]\n",
      "File \u001b[0;32m~/Library/Python/3.8/lib/python/site-packages/uproot/reading.py:2089\u001b[0m, in \u001b[0;36mReadOnlyDirectory.__getitem__\u001b[0;34m(self, where)\u001b[0m\n\u001b[1;32m   2087\u001b[0m     \u001b[38;5;28;01melse\u001b[39;00m:\n\u001b[1;32m   2088\u001b[0m         last \u001b[38;5;241m=\u001b[39m step\n\u001b[0;32m-> 2089\u001b[0m         step \u001b[38;5;241m=\u001b[39m \u001b[43mstep\u001b[49m\u001b[43m[\u001b[49m\u001b[43mitem\u001b[49m\u001b[43m]\u001b[49m\n\u001b[1;32m   2091\u001b[0m \u001b[38;5;28;01melif\u001b[39;00m \u001b[38;5;28misinstance\u001b[39m(step, uproot\u001b[38;5;241m.\u001b[39mbehaviors\u001b[38;5;241m.\u001b[39mTBranch\u001b[38;5;241m.\u001b[39mHasBranches):\n\u001b[1;32m   2092\u001b[0m     \u001b[38;5;28;01mreturn\u001b[39;00m step[\u001b[38;5;124m\"\u001b[39m\u001b[38;5;124m/\u001b[39m\u001b[38;5;124m\"\u001b[39m\u001b[38;5;241m.\u001b[39mjoin(items[i:])]\n",
      "    \u001b[0;31m[... skipping similar frames: ReadOnlyDirectory.__getitem__ at line 2089 (19966 times)]\u001b[0m\n",
      "File \u001b[0;32m~/Library/Python/3.8/lib/python/site-packages/uproot/reading.py:2089\u001b[0m, in \u001b[0;36mReadOnlyDirectory.__getitem__\u001b[0;34m(self, where)\u001b[0m\n\u001b[1;32m   2087\u001b[0m     \u001b[38;5;28;01melse\u001b[39;00m:\n\u001b[1;32m   2088\u001b[0m         last \u001b[38;5;241m=\u001b[39m step\n\u001b[0;32m-> 2089\u001b[0m         step \u001b[38;5;241m=\u001b[39m \u001b[43mstep\u001b[49m\u001b[43m[\u001b[49m\u001b[43mitem\u001b[49m\u001b[43m]\u001b[49m\n\u001b[1;32m   2091\u001b[0m \u001b[38;5;28;01melif\u001b[39;00m \u001b[38;5;28misinstance\u001b[39m(step, uproot\u001b[38;5;241m.\u001b[39mbehaviors\u001b[38;5;241m.\u001b[39mTBranch\u001b[38;5;241m.\u001b[39mHasBranches):\n\u001b[1;32m   2092\u001b[0m     \u001b[38;5;28;01mreturn\u001b[39;00m step[\u001b[38;5;124m\"\u001b[39m\u001b[38;5;124m/\u001b[39m\u001b[38;5;124m\"\u001b[39m\u001b[38;5;241m.\u001b[39mjoin(items[i:])]\n",
      "File \u001b[0;32m~/Library/Python/3.8/lib/python/site-packages/uproot/reading.py:2072\u001b[0m, in \u001b[0;36mReadOnlyDirectory.__getitem__\u001b[0;34m(self, where)\u001b[0m\n\u001b[1;32m   2070\u001b[0m \u001b[38;5;28;01mif\u001b[39;00m item \u001b[38;5;241m!=\u001b[39m \u001b[38;5;124m\"\u001b[39m\u001b[38;5;124m\"\u001b[39m:\n\u001b[1;32m   2071\u001b[0m     \u001b[38;5;28;01mif\u001b[39;00m \u001b[38;5;28misinstance\u001b[39m(step, ReadOnlyDirectory):\n\u001b[0;32m-> 2072\u001b[0m         \u001b[38;5;28;01mif\u001b[39;00m \u001b[38;5;124m\"\u001b[39m\u001b[38;5;124m:\u001b[39m\u001b[38;5;124m\"\u001b[39m \u001b[38;5;129;01min\u001b[39;00m item \u001b[38;5;129;01mand\u001b[39;00m \u001b[43mitem\u001b[49m\u001b[43m \u001b[49m\u001b[38;5;129;43;01mnot\u001b[39;49;00m\u001b[43m \u001b[49m\u001b[38;5;129;43;01min\u001b[39;49;00m\u001b[43m \u001b[49m\u001b[43mstep\u001b[49m:\n\u001b[1;32m   2073\u001b[0m             index \u001b[38;5;241m=\u001b[39m item\u001b[38;5;241m.\u001b[39mindex(\u001b[38;5;124m\"\u001b[39m\u001b[38;5;124m:\u001b[39m\u001b[38;5;124m\"\u001b[39m)\n\u001b[1;32m   2074\u001b[0m             head, tail \u001b[38;5;241m=\u001b[39m item[:index], item[index \u001b[38;5;241m+\u001b[39m \u001b[38;5;241m1\u001b[39m :]\n",
      "File \u001b[0;32m~/Library/Python/3.8/lib/python/site-packages/uproot/reading.py:1922\u001b[0m, in \u001b[0;36mReadOnlyDirectory.__contains__\u001b[0;34m(self, where)\u001b[0m\n\u001b[1;32m   1920\u001b[0m \u001b[38;5;28;01mdef\u001b[39;00m \u001b[38;5;21m__contains__\u001b[39m(\u001b[38;5;28mself\u001b[39m, where):\n\u001b[1;32m   1921\u001b[0m     \u001b[38;5;28;01mtry\u001b[39;00m:\n\u001b[0;32m-> 1922\u001b[0m         \u001b[38;5;28;43mself\u001b[39;49m\u001b[38;5;241;43m.\u001b[39;49m\u001b[43mkey\u001b[49m\u001b[43m(\u001b[49m\u001b[43mwhere\u001b[49m\u001b[43m)\u001b[49m\n\u001b[1;32m   1923\u001b[0m     \u001b[38;5;28;01mexcept\u001b[39;00m \u001b[38;5;167;01mKeyError\u001b[39;00m:\n\u001b[1;32m   1924\u001b[0m         \u001b[38;5;28;01mreturn\u001b[39;00m \u001b[38;5;28;01mFalse\u001b[39;00m\n",
      "File \u001b[0;32m~/Library/Python/3.8/lib/python/site-packages/uproot/reading.py:2014\u001b[0m, in \u001b[0;36mReadOnlyDirectory.key\u001b[0;34m(self, where)\u001b[0m\n\u001b[1;32m   2000\u001b[0m \u001b[38;5;28;01mdef\u001b[39;00m \u001b[38;5;21mkey\u001b[39m(\u001b[38;5;28mself\u001b[39m, where):\n\u001b[1;32m   2001\u001b[0m     \u001b[38;5;124;03m\"\"\"\u001b[39;00m\n\u001b[1;32m   2002\u001b[0m \u001b[38;5;124;03m    Returns a ``TKey`` (:doc:`uproot.reading.ReadOnlyKey`) for the object\u001b[39;00m\n\u001b[1;32m   2003\u001b[0m \u001b[38;5;124;03m    selected by ``where``.\u001b[39;00m\n\u001b[0;32m   (...)\u001b[0m\n\u001b[1;32m   2012\u001b[0m \u001b[38;5;124;03m    Note that this does not read any data from the file.\u001b[39;00m\n\u001b[1;32m   2013\u001b[0m \u001b[38;5;124;03m    \"\"\"\u001b[39;00m\n\u001b[0;32m-> 2014\u001b[0m     where \u001b[38;5;241m=\u001b[39m \u001b[43muproot\u001b[49m\u001b[38;5;241;43m.\u001b[39;49m\u001b[43m_util\u001b[49m\u001b[38;5;241;43m.\u001b[39;49m\u001b[43mensure_str\u001b[49m\u001b[43m(\u001b[49m\u001b[43mwhere\u001b[49m\u001b[43m)\u001b[49m\n\u001b[1;32m   2016\u001b[0m     \u001b[38;5;28;01mif\u001b[39;00m \u001b[38;5;124m\"\u001b[39m\u001b[38;5;124m/\u001b[39m\u001b[38;5;124m\"\u001b[39m \u001b[38;5;129;01min\u001b[39;00m where:\n\u001b[1;32m   2017\u001b[0m         items \u001b[38;5;241m=\u001b[39m where\u001b[38;5;241m.\u001b[39msplit(\u001b[38;5;124m\"\u001b[39m\u001b[38;5;124m/\u001b[39m\u001b[38;5;124m\"\u001b[39m)\n",
      "File \u001b[0;32m~/Library/Python/3.8/lib/python/site-packages/uproot/_util.py:67\u001b[0m, in \u001b[0;36mensure_str\u001b[0;34m(x)\u001b[0m\n\u001b[1;32m     63\u001b[0m \u001b[38;5;28;01mdef\u001b[39;00m \u001b[38;5;21mensure_str\u001b[39m(x):\n\u001b[1;32m     64\u001b[0m     \u001b[38;5;124;03m\"\"\"\u001b[39;00m\n\u001b[1;32m     65\u001b[0m \u001b[38;5;124;03m    Ensures that ``x`` is a string (decoding with 'surrogateescape' if necessary).\u001b[39;00m\n\u001b[1;32m     66\u001b[0m \u001b[38;5;124;03m    \"\"\"\u001b[39;00m\n\u001b[0;32m---> 67\u001b[0m     \u001b[38;5;28;01mif\u001b[39;00m \u001b[38;5;28;43misinstance\u001b[39;49m\u001b[43m(\u001b[49m\u001b[43mx\u001b[49m\u001b[43m,\u001b[49m\u001b[43m \u001b[49m\u001b[38;5;28;43mbytes\u001b[39;49m\u001b[43m)\u001b[49m:\n\u001b[1;32m     68\u001b[0m         \u001b[38;5;28;01mreturn\u001b[39;00m x\u001b[38;5;241m.\u001b[39mdecode(errors\u001b[38;5;241m=\u001b[39m\u001b[38;5;124m\"\u001b[39m\u001b[38;5;124msurrogateescape\u001b[39m\u001b[38;5;124m\"\u001b[39m)\n\u001b[1;32m     69\u001b[0m     \u001b[38;5;28;01melif\u001b[39;00m \u001b[38;5;28misinstance\u001b[39m(x, \u001b[38;5;28mstr\u001b[39m):\n",
      "\u001b[0;31mRecursionError\u001b[0m: maximum recursion depth exceeded while calling a Python object"
     ]
    }
   ],
   "source": [
    "sec=0\n",
    "pbin=7\n",
    "histo=file[layer_1][layer_2][layer_3][layer_4][layer_5[sec]][layer_6[sec][pbin]].keys()"
   ]
  },
  {
   "cell_type": "code",
   "execution_count": null,
   "id": "6962b66a",
   "metadata": {},
   "outputs": [],
   "source": [
    "sec=0\n",
    "pbin=7\n",
    "hist_path=root_file+\":\"+layer_1+\"/\"+layer_2+\"/\"+layer_3+\"/\"+layer_4+\"/\"+layer_5[sec]+\"/\"+layer_6[sec][pbin]\n",
    "print(hist_path)\n",
    "histogram = uproot.open(hist_path)"
   ]
  },
  {
   "cell_type": "code",
   "execution_count": null,
   "id": "afb4aa42",
   "metadata": {},
   "outputs": [],
   "source": [
    "\n",
    "print([layer_6[sec][pbin]])\n",
    "print(\"  Fid_ele_pid_sec1_cut_no-weight_mnone_p:1.760-1.940\")\n",
    "#print(\n",
    "file[layer_1][layer_2][layer_3][layer_4][layer_5[sec]][\"Fid_ele_pid_sec1_cut_no-weight_mnone_p:0.500-0.680\"].classnames()\n",
    "\n",
    "#file[layer_1][layer_2][layer_3][layer_4][layer_5[sec]][layer_6[sec][pbin]].all_members\n",
    "#yvals=file[layer_1][layer_2][layer_3][layer_4][layer_5[sec]][layer_6[sec][pbin]].values"
   ]
  },
  {
   "cell_type": "code",
   "execution_count": null,
   "id": "8b5f3163",
   "metadata": {},
   "outputs": [],
   "source": []
  },
  {
   "cell_type": "code",
   "execution_count": null,
   "id": "32321c50",
   "metadata": {},
   "outputs": [],
   "source": [
    "data = [[ for j in range(_pbins)] for i in range(6)]"
   ]
  },
  {
   "cell_type": "code",
   "execution_count": null,
   "id": "97a52b40",
   "metadata": {},
   "outputs": [],
   "source": []
  }
 ],
 "metadata": {
  "kernelspec": {
   "display_name": "Python 3 (ipykernel)",
   "language": "python",
   "name": "python3"
  },
  "language_info": {
   "codemirror_mode": {
    "name": "ipython",
    "version": 3
   },
   "file_extension": ".py",
   "mimetype": "text/x-python",
   "name": "python",
   "nbconvert_exporter": "python",
   "pygments_lexer": "ipython3",
   "version": "3.8.9"
  }
 },
 "nbformat": 4,
 "nbformat_minor": 5
}
