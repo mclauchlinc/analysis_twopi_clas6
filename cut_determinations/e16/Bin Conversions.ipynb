{
 "cells": [
  {
   "cell_type": "code",
   "execution_count": 1,
   "id": "a238b748",
   "metadata": {},
   "outputs": [],
   "source": [
    "import numpy as np\n",
    "import matplotlib.pyplot as plt\n",
    "import math\n",
    "import pandas as pd"
   ]
  },
  {
   "cell_type": "code",
   "execution_count": 2,
   "id": "b5fe8370",
   "metadata": {},
   "outputs": [],
   "source": [
    "#This notebook is meant to allow for bin merging, getting rid of zeros, and putting bounds on 2-D sets of data \n",
    "#for the purposes of determining cut parameters for the main analysis"
   ]
  },
  {
   "cell_type": "code",
   "execution_count": null,
   "id": "0a19f07f",
   "metadata": {},
   "outputs": [],
   "source": [
    "print(\"*Bin Conversions*\")\n",
    "print(\"Available Functions:\")\n",
    "print(\"Note: All functions return new arrays rather than altering the previous array\")"
   ]
  },
  {
   "cell_type": "code",
   "execution_count": 9,
   "id": "92ecd302",
   "metadata": {},
   "outputs": [
    {
     "name": "stdout",
     "output_type": "stream",
     "text": [
      "\tNew_Merged_Size(array_,merge_size_) returns what the size of the new merged array will be\n",
      "\tMerge_Bin_Edges(edges_,merge_size) merges the bin edges \n"
     ]
    }
   ],
   "source": [
    "print(\"\\tNew_Merged_Size(array_,merge_size_) returns what the size of the new merged array will be\")\n",
    "def New_Merged_Size(array_,merge_size_):\n",
    "    return math.floor(len(array_)/merge_size_)\n",
    "\n",
    "def Merge_Bins(array_,merge_size_):\n",
    "    #1st argument is the array having bins merged\n",
    "    #2nd argument is number of bins merged\n",
    "    #This will cut off the tail end of the bins if the initial number of bins is not a multiple of the merge_size\n",
    "    \n",
    "    new_array = np.zeros(math.floor(len(array_)/merge_size_))\n",
    "    for i in range(len(new_array)):\n",
    "        for j in range(merge_size_):\n",
    "            new_array[i]+=array_[i*merge_size_+j]\n",
    "    return new_array\n",
    "\n",
    "def Merge_Vals(yarray_,merge_size_):\n",
    "    return Merge_Bins(yarray_,merge_size_)\n",
    "\n",
    "def Merge_Bins(xarray_,merge_size_):\n",
    "    new_array = np.zeros(math.floor(len(xarray_)/merge_size_))\n",
    "    for i in range(len(new_array)):\n",
    "        for j in range(merge_size_):\n",
    "            new_array[i]+=xarray_[i*merge_size_+j]\n",
    "        new_array[i]=new_array[i]/merge_size_\n",
    "    return new_array\n",
    "print(\"\\tMerge_Bin_Edges(edges_,merge_size) merges the bin edges \")\n",
    "def Merge_Bin_Edges(edges_,merge_size_):\n",
    "    new_array = edges_\n",
    "    sub=0\n",
    "    for i in range(len(edges_)):\n",
    "        #print(\"index:\",i,\" (i)%merge_size_:\",(i)%merge_size_)\n",
    "        if i!=0 and (i)%merge_size_>0:\n",
    "            #print(\"index:\",i,\" deleting index \",i-sub)\n",
    "            new_array=np.delete(new_array,i-sub)\n",
    "            sub+=1\n",
    "    return new_array\n",
    "\n",
    "\n",
    "\n",
    "def Count_Non_Zero(array_):\n",
    "    out=0\n",
    "    for i in array_:\n",
    "        if i != 0:\n",
    "            out+=1\n",
    "    return out\n",
    "\n",
    "def Count_Zero(array_):\n",
    "    out=0\n",
    "    for i in array_:\n",
    "        if i == 0:\n",
    "            out+=1\n",
    "    return out\n",
    "\n",
    "def Remove_Zeros(array_):\n",
    "    new_array=np.zeros(Count_Non_Zero(array_))\n",
    "    idx = 0\n",
    "    for i in array_:\n",
    "        if i!=0:\n",
    "            new_array[idx]+=i\n",
    "            idx+=1\n",
    "    return new_array\n",
    "\n",
    "def Remove_Zeros_Y(array_):\n",
    "    return Remove_Zeros(array_)\n",
    "\n",
    "def Remove_Zeros_X(xarray_,yarray_):\n",
    "    new_array=np.zeros(Count_Non_Zero(yarray_))\n",
    "    idx = 0\n",
    "    for i in range(len(xarray_)):\n",
    "        if yarray_[i]!=0:\n",
    "            new_array[idx]+=xarray_[i]\n",
    "            idx+=1\n",
    "    return new_array\n",
    "\n",
    "def Count_InBounds(yarray_,low_,high_):\n",
    "    out=0\n",
    "    for i in range(len(yarray_)):\n",
    "        if yarray_[i] >= low_ and yarray_[i]<= high_:\n",
    "            out+=1\n",
    "    return out\n",
    "\n",
    "def Count_OutBounds(yarray_,low_,high_):\n",
    "    out=0\n",
    "    for i in range(len(yarray_)):\n",
    "        if yarray_[i] < low_ or yarray_[i]> high_:\n",
    "            out+=1\n",
    "    return out\n",
    "\n",
    "def Bounds_on_Y(yarray_,low_,high_):\n",
    "   # print(\"forming bounds from \", low_, \" to \", high_)\n",
    "    new_array = np.zeros(Count_InBounds(yarray_,low_,high_))\n",
    "    idx = 0\n",
    "    for i in range(len(yarray_)):\n",
    "        if yarray_[i] >= low_ and yarray_[i]<=high_: \n",
    "            new_array[idx]+=yarray_[i]\n",
    "            idx+=1\n",
    "    return new_array\n",
    "\n",
    "def Bounds_on_X_From_Y(xarray_, yarray_,low_,high_):\n",
    "    #print(\"forming bounds from \", low_, \" to \", high_)\n",
    "    new_array = np.zeros(Count_InBounds(yarray_,low_,high_))\n",
    "    idx = 0\n",
    "    for i in range(len(yarray_)):\n",
    "        if yarray_[i] >= low_ and yarray_[i]<=high_: \n",
    "            new_array[idx]+=xarray_[i]\n",
    "            idx+=1\n",
    "    return new_array"
   ]
  },
  {
   "cell_type": "code",
   "execution_count": null,
   "id": "abcd8e92",
   "metadata": {},
   "outputs": [],
   "source": []
  },
  {
   "cell_type": "code",
   "execution_count": 52,
   "id": "bb451ec7",
   "metadata": {},
   "outputs": [
    {
     "name": "stdout",
     "output_type": "stream",
     "text": [
      "index: 0  (i)%merge_size_: 0\n",
      "index: 1  (i)%merge_size_: 1\n",
      "index: 1  deleting index  1\n",
      "index: 2  (i)%merge_size_: 2\n",
      "index: 2  deleting index  1\n",
      "index: 3  (i)%merge_size_: 3\n",
      "index: 3  deleting index  1\n",
      "index: 4  (i)%merge_size_: 4\n",
      "index: 4  deleting index  1\n",
      "index: 5  (i)%merge_size_: 5\n",
      "index: 5  deleting index  1\n",
      "index: 6  (i)%merge_size_: 6\n",
      "index: 6  deleting index  1\n",
      "index: 7  (i)%merge_size_: 0\n",
      "index: 8  (i)%merge_size_: 1\n",
      "index: 8  deleting index  2\n",
      "index: 9  (i)%merge_size_: 2\n",
      "index: 9  deleting index  2\n",
      "index: 10  (i)%merge_size_: 3\n",
      "index: 10  deleting index  2\n",
      "index: 11  (i)%merge_size_: 4\n",
      "index: 11  deleting index  2\n",
      "index: 12  (i)%merge_size_: 5\n",
      "index: 12  deleting index  2\n",
      "index: 13  (i)%merge_size_: 6\n",
      "index: 13  deleting index  2\n",
      "index: 14  (i)%merge_size_: 0\n"
     ]
    },
    {
     "data": {
      "text/plain": [
       "array([0, 3, 1])"
      ]
     },
     "execution_count": 52,
     "metadata": {},
     "output_type": "execute_result"
    }
   ],
   "source": [
    "#Merge_Bin_Edges([0,3,2,5,7,8,1,3,5,6,7,8,3,2,1],7)"
   ]
  },
  {
   "cell_type": "code",
   "execution_count": 54,
   "id": "54bb07eb",
   "metadata": {},
   "outputs": [
    {
     "name": "stdout",
     "output_type": "stream",
     "text": [
      "\tMerge_Bins(array_,merge_size_) adds together every <merge_size_> values in an array\n",
      "\tMerge_Vals(yarray_,merge_size_) adds together every <merge_size_> ybin together in an array\n",
      "\tMerge_Bins(xarray_,merge_size_) averages every <merge_size_> xbins together in an array\n",
      "\tCount_Non_Zero(array_) counts the number of nonzero values in an array\n",
      "\tCount_Zero(array_) counts the number of zeros in an array\n",
      "\tRemove_Zeros(array_) remove zeros from an array\n",
      "\tRemove_Zeros_Y(yarray_) removes zero values from yarray\n",
      "\tRemove_Zeros_X(xarray_,yarray_) removes xbins where the corresponding y value was zero\n",
      "\tCount_InBounds(yarray_,low_,high_) counts the number of values that fall between bounds (or equal to)\n",
      "\tCount_OutBounds(yarray_,low_,high_) counts the number of values that fall outside of bounds (not equal)\n",
      "\tBounds_on_Y(yarray_,low_,high_) removes all values not between or equal to bounds\n",
      "\tBounds_on_X_From_Y(xarray_,yarray_,low_,high_) removes all xbins where corresponding y values are not between bounds\n"
     ]
    }
   ],
   "source": [
    "\n",
    "print(\"\\tMerge_Bins(array_,merge_size_) adds together every <merge_size_> values in an array\")\n",
    "print(\"\\tMerge_Vals(yarray_,merge_size_) adds together every <merge_size_> ybin together in an array\")\n",
    "print(\"\\tMerge_Bins(xarray_,merge_size_) averages every <merge_size_> xbins together in an array\")\n",
    "print(\"\\tCount_Non_Zero(array_) counts the number of nonzero values in an array\")\n",
    "print(\"\\tCount_Zero(array_) counts the number of zeros in an array\")\n",
    "print(\"\\tRemove_Zeros(array_) remove zeros from an array\")\n",
    "print(\"\\tRemove_Zeros_Y(yarray_) removes zero values from yarray\")\n",
    "print(\"\\tRemove_Zeros_X(xarray_,yarray_) removes xbins where the corresponding y value was zero\")\n",
    "print(\"\\tCount_InBounds(yarray_,low_,high_) counts the number of values that fall between bounds (or equal to)\")\n",
    "print(\"\\tCount_OutBounds(yarray_,low_,high_) counts the number of values that fall outside of bounds (not equal)\")\n",
    "print(\"\\tBounds_on_Y(yarray_,low_,high_) removes all values not between or equal to bounds\")\n",
    "print(\"\\tBounds_on_X_From_Y(xarray_,yarray_,low_,high_) removes all xbins where corresponding y values are not between bounds\")\n"
   ]
  },
  {
   "cell_type": "code",
   "execution_count": 7,
   "id": "bac72ded",
   "metadata": {},
   "outputs": [
    {
     "name": "stdout",
     "output_type": "stream",
     "text": [
      "\tMerge_Z(zvals_,var1_merge_size_,var2_merge_size) merges z values for 2D histograms with specific dim merge sizes\n"
     ]
    }
   ],
   "source": [
    "print(\"\\tMerge_Z(zvals_,var1_merge_size_,var2_merge_size) merges z values for 2D histograms with specific dim merge sizes\")\n",
    "def Merge_Z(zvals_,var1_merge_size_,var2_merge_size_):\n",
    "    new_var1size = math.floor(len(zvals_)/var1_merge_size_)\n",
    "    new_var2size = math.floor(len(zvals_[0])/var2_merge_size_)\n",
    "    new_array=np.zeros((new_var1size,new_var2size))\n",
    "    for i in range(new_var1size):\n",
    "        for j in range(new_var2size):\n",
    "            for k in range(var1_merge_size_):\n",
    "                for l in range(var2_merge_size_):\n",
    "                    new_array[i][j]+=zvals_[i*var1_merge_size_+k][j*var2_merge_size_+l]\n",
    "    return new_array"
   ]
  },
  {
   "cell_type": "code",
   "execution_count": 6,
   "id": "57c6d340",
   "metadata": {},
   "outputs": [
    {
     "name": "stdout",
     "output_type": "stream",
     "text": [
      "Have fun working with arrays\n",
      "\n"
     ]
    }
   ],
   "source": [
    "print(\"Have fun working with arrays\\n\")"
   ]
  }
 ],
 "metadata": {
  "kernelspec": {
   "display_name": "Python 3 (ipykernel)",
   "language": "python",
   "name": "python3"
  },
  "language_info": {
   "codemirror_mode": {
    "name": "ipython",
    "version": 3
   },
   "file_extension": ".py",
   "mimetype": "text/x-python",
   "name": "python",
   "nbconvert_exporter": "python",
   "pygments_lexer": "ipython3",
   "version": "3.10.8"
  }
 },
 "nbformat": 4,
 "nbformat_minor": 5
}
