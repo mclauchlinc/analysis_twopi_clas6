{
 "cells": [
  {
   "cell_type": "code",
   "execution_count": 6,
   "id": "43382d2d",
   "metadata": {},
   "outputs": [],
   "source": [
    "import numpy as np\n",
    "import matplotlib.pyplot as plt\n",
    "import math\n",
    "import pandas as pd\n",
    "import uproot3"
   ]
  },
  {
   "cell_type": "code",
   "execution_count": 2,
   "id": "54abeca3",
   "metadata": {},
   "outputs": [],
   "source": [
    "#test = uproot.open(\"https://scikit-hep.org/uproot3/examples/hepdata-example.root\")\n",
    "#print(test.classnames())\n",
    "#hist=test[\"hpx\"]"
   ]
  },
  {
   "cell_type": "code",
   "execution_count": 3,
   "id": "93269da8",
   "metadata": {},
   "outputs": [
    {
     "name": "stdout",
     "output_type": "stream",
     "text": [
      "*Extracting Pieces for TH1*\n",
      "Available Functions:\n"
     ]
    }
   ],
   "source": [
    "print(\"*Extracting Pieces for TH1*\")\n",
    "print(\"Available Functions:\")"
   ]
  },
  {
   "cell_type": "code",
   "execution_count": 4,
   "id": "5fb4731a",
   "metadata": {},
   "outputs": [
    {
     "name": "stdout",
     "output_type": "stream",
     "text": [
      "\tNum_Xbins(TH1_) returns number of X bins for a TH1\n",
      "\tXEdges_1d(TH1_) returns edges of x bins for a TH1\n",
      "\tCenter_Xbins(TH1_) returns center values for x bins for a TH1\n",
      "\tValues_1d(TH1_) returns the y values for a TH1\n",
      "\tErrors_1d(TH1_) returns the error values for TH1\n",
      "\tErrors2_1d(TH1_) returns the squared error values for TH1\n"
     ]
    }
   ],
   "source": [
    "print(\"\\tNum_Xbins(TH1_) returns number of X bins for a TH1\")\n",
    "def Num_Xbins(TH1_):\n",
    "    #return len(TH1_.numpy()[1])-1\n",
    "    return len(TH1_.edges)-1\n",
    "print(\"\\tXEdges_1d(TH1_) returns edges of x bins for a TH1\")\n",
    "def XEdges_1d(TH1_):\n",
    "    return TH1_.edges\n",
    "print(\"\\tCenter_Xbins(TH1_) returns center values for x bins for a TH1\")\n",
    "def Center_Xbins(TH1_):\n",
    "    xedges=XEdges_1d(TH1_)\n",
    "    center=np.zeros(len(xedges)-1)\n",
    "    for i in range(len(xedges)-1):\n",
    "        center[i]+=(xedges[i+1]+xedges[i])/2\n",
    "    return center\n",
    "print(\"\\tValues_1d(TH1_) returns the y values for a TH1\")\n",
    "def Values_1d(TH1_):\n",
    "    #return TH1_.numpy()[0]\n",
    "    return TH1_.values\n",
    "print(\"\\tErrors_1d(TH1_) returns the error values for TH1\")\n",
    "def Errors_1d(TH1_):\n",
    "    output = np.zeros(len(TH1_.values))\n",
    "    for i in range(len(TH1_.values)):\n",
    "        output[i] = math.sqrt(TH1_.variances[i])\n",
    "    return output\n",
    "\n",
    "print(\"\\tErrors2_1d(TH1_) returns the squared error values for TH1\")\n",
    "def Errors2_1d(TH1_):\n",
    "    return TH1_.variances\n",
    "\n"
   ]
  },
  {
   "cell_type": "code",
   "execution_count": 5,
   "id": "8fc74017",
   "metadata": {},
   "outputs": [
    {
     "name": "stdout",
     "output_type": "stream",
     "text": [
      "Enjoy using TH1s\n",
      "\n"
     ]
    }
   ],
   "source": [
    "print(\"Enjoy using TH1s\\n\")"
   ]
  },
  {
   "cell_type": "code",
   "execution_count": null,
   "id": "4cff23de",
   "metadata": {},
   "outputs": [],
   "source": []
  }
 ],
 "metadata": {
  "kernelspec": {
   "display_name": "Python 3 (ipykernel)",
   "language": "python",
   "name": "python3"
  },
  "language_info": {
   "codemirror_mode": {
    "name": "ipython",
    "version": 3
   },
   "file_extension": ".py",
   "mimetype": "text/x-python",
   "name": "python",
   "nbconvert_exporter": "python",
   "pygments_lexer": "ipython3",
   "version": "3.10.14"
  }
 },
 "nbformat": 4,
 "nbformat_minor": 5
}
