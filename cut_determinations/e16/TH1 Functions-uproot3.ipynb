{
 "cells": [
  {
   "cell_type": "code",
   "execution_count": 1,
   "id": "43382d2d",
   "metadata": {},
   "outputs": [],
   "source": [
    "import numpy as np\n",
    "import matplotlib.pyplot as plt\n",
    "import math\n",
    "import pandas as pd\n",
    "import uproot"
   ]
  },
  {
   "cell_type": "code",
   "execution_count": 3,
   "id": "54abeca3",
   "metadata": {},
   "outputs": [
    {
     "name": "stdout",
     "output_type": "stream",
     "text": [
      "{'hpx;1': 'TH1F', 'hpxpy;1': 'TH2F', 'hprof;1': 'TProfile', 'ntuple;1': 'TNtuple'}\n"
     ]
    }
   ],
   "source": [
    "#test = uproot.open(\"https://scikit-hep.org/uproot3/examples/hepdata-example.root\")\n",
    "#print(test.classnames())\n",
    "#hist=test[\"hpx\"]"
   ]
  },
  {
   "cell_type": "code",
   "execution_count": 4,
   "id": "93269da8",
   "metadata": {},
   "outputs": [
    {
     "name": "stdout",
     "output_type": "stream",
     "text": [
      "*Extracting Pieces for TH2*\n",
      "Available Functions:\n"
     ]
    }
   ],
   "source": [
    "print(\"*Extracting Pieces for TH2*\")\n",
    "print(\"Available Functions:\")"
   ]
  },
  {
   "cell_type": "code",
   "execution_count": 8,
   "id": "5fb4731a",
   "metadata": {},
   "outputs": [
    {
     "name": "stdout",
     "output_type": "stream",
     "text": [
      "\tNum_Xbins(TH1_) returns number of X bins for a TH2\n",
      "\tXEdges_2d(TH1_) returns edges of x bins for a TH2\n",
      "\tCenter_Xbins(TH1_) returns center values for x bins for a TH2\n",
      "\tValues_1d(TH2_) returns a 2D np.array for z values arranged [x][y] for a TH2\n"
     ]
    }
   ],
   "source": [
    "print(\"\\tNum_Xbins(TH1_) returns number of X bins for a TH2\")\n",
    "def Num_Xbins(TH1_):\n",
    "    return len(TH1_.to_numpy()[1])-1\n",
    "print(\"\\tXEdges_2d(TH1_) returns edges of x bins for a TH2\")\n",
    "def XEdges_1d(TH1_):\n",
    "    return TH2_.to_numpy()[1]\n",
    "print(\"\\tCenter_Xbins(TH1_) returns center values for x bins for a TH2\")\n",
    "def Center_Xbins(TH1_):\n",
    "    xedges=XEdges_2d(TH1_)\n",
    "    center=np.zeros(len(xedges)-1)\n",
    "    for i in range(len(xedges)-1):\n",
    "        center[i]+=(xedges[i+1]+xedges[i])/2\n",
    "    return center\n",
    "print(\"\\tValues_1d(TH2_) returns a 2D np.array for z values arranged [x][y] for a TH2\")\n",
    "def Values_1d(TH1_):\n",
    "    return TH2_.to_numpy()[0]\n",
    "    \n",
    "\n"
   ]
  },
  {
   "cell_type": "code",
   "execution_count": 9,
   "id": "8fc74017",
   "metadata": {},
   "outputs": [
    {
     "name": "stdout",
     "output_type": "stream",
     "text": [
      "Enjoy using TH1s\n",
      "\n"
     ]
    }
   ],
   "source": [
    "print(\"Enjoy using TH1s\\n\")"
   ]
  },
  {
   "cell_type": "code",
   "execution_count": null,
   "id": "4cff23de",
   "metadata": {},
   "outputs": [],
   "source": []
  }
 ],
 "metadata": {
  "kernelspec": {
   "display_name": "Python 3 (ipykernel)",
   "language": "python",
   "name": "python3"
  },
  "language_info": {
   "codemirror_mode": {
    "name": "ipython",
    "version": 3
   },
   "file_extension": ".py",
   "mimetype": "text/x-python",
   "name": "python",
   "nbconvert_exporter": "python",
   "pygments_lexer": "ipython3",
   "version": "3.8.9"
  }
 },
 "nbformat": 4,
 "nbformat_minor": 5
}
